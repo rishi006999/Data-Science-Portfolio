{
 "cells": [
  {
   "cell_type": "markdown",
   "metadata": {},
   "source": [
    "# Models "
   ]
  },
  {
   "cell_type": "code",
   "execution_count": 2,
   "metadata": {},
   "outputs": [],
   "source": [
    "#Importing necessary libraries\n",
    "import pandas as pd\n",
    "from sklearn.feature_extraction.text import TfidfVectorizer\n",
    "from sklearn.metrics.pairwise import cosine_similarity\n",
    "from surprise import Dataset, Reader, KNNWithMeans, SVD\n",
    "from surprise.model_selection import cross_validate\n",
    "import gc "
   ]
  },
  {
   "cell_type": "code",
   "execution_count": 4,
   "metadata": {
    "execution": {
     "iopub.execute_input": "2024-05-08T00:08:51.061459Z",
     "iopub.status.busy": "2024-05-08T00:08:51.061009Z",
     "iopub.status.idle": "2024-05-08T00:09:11.841798Z",
     "shell.execute_reply": "2024-05-08T00:09:11.841008Z",
     "shell.execute_reply.started": "2024-05-08T00:08:51.061429Z"
    }
   },
   "outputs": [],
   "source": [
    "#Loading various datasets required for the model\n",
    "ratings_df = pd.read_csv('/Downloads/ratings.csv')\n",
    "links_small_df = pd.read_csv('/Downloads/links_small.csv')\n",
    "credits_df = pd.read_csv('/Downloads/credits.csv')\n",
    "keywords_df = pd.read_csv('/Downloads/keywords.csv')\n",
    "metadata_df = pd.read_csv('/Downloads/movies_metadata.csv')\n",
    "ratings_small_df = pd.read_csv('/Downloads/ratings_small.csv')\n",
    "links_df = pd.read_csv('/Downloads/links.csv')"
   ]
  },
  {
   "cell_type": "code",
   "execution_count": null,
   "metadata": {},
   "outputs": [],
   "source": [
    "#Displaying shape and head of the all dataframes to understand its structure"
   ]
  },
  {
   "cell_type": "code",
   "execution_count": 3,
   "metadata": {
    "execution": {
     "iopub.execute_input": "2024-05-08T00:09:11.843833Z",
     "iopub.status.busy": "2024-05-08T00:09:11.843512Z",
     "iopub.status.idle": "2024-05-08T00:09:11.866259Z",
     "shell.execute_reply": "2024-05-08T00:09:11.865330Z",
     "shell.execute_reply.started": "2024-05-08T00:09:11.843806Z"
    }
   },
   "outputs": [
    {
     "name": "stdout",
     "output_type": "stream",
     "text": [
      "(26024289, 4)\n"
     ]
    },
    {
     "data": {
      "text/html": [
       "<div>\n",
       "<style scoped>\n",
       "    .dataframe tbody tr th:only-of-type {\n",
       "        vertical-align: middle;\n",
       "    }\n",
       "\n",
       "    .dataframe tbody tr th {\n",
       "        vertical-align: top;\n",
       "    }\n",
       "\n",
       "    .dataframe thead th {\n",
       "        text-align: right;\n",
       "    }\n",
       "</style>\n",
       "<table border=\"1\" class=\"dataframe\">\n",
       "  <thead>\n",
       "    <tr style=\"text-align: right;\">\n",
       "      <th></th>\n",
       "      <th>userId</th>\n",
       "      <th>movieId</th>\n",
       "      <th>rating</th>\n",
       "      <th>timestamp</th>\n",
       "    </tr>\n",
       "  </thead>\n",
       "  <tbody>\n",
       "    <tr>\n",
       "      <th>0</th>\n",
       "      <td>1</td>\n",
       "      <td>110</td>\n",
       "      <td>1.0</td>\n",
       "      <td>1425941529</td>\n",
       "    </tr>\n",
       "    <tr>\n",
       "      <th>1</th>\n",
       "      <td>1</td>\n",
       "      <td>147</td>\n",
       "      <td>4.5</td>\n",
       "      <td>1425942435</td>\n",
       "    </tr>\n",
       "    <tr>\n",
       "      <th>2</th>\n",
       "      <td>1</td>\n",
       "      <td>858</td>\n",
       "      <td>5.0</td>\n",
       "      <td>1425941523</td>\n",
       "    </tr>\n",
       "    <tr>\n",
       "      <th>3</th>\n",
       "      <td>1</td>\n",
       "      <td>1221</td>\n",
       "      <td>5.0</td>\n",
       "      <td>1425941546</td>\n",
       "    </tr>\n",
       "    <tr>\n",
       "      <th>4</th>\n",
       "      <td>1</td>\n",
       "      <td>1246</td>\n",
       "      <td>5.0</td>\n",
       "      <td>1425941556</td>\n",
       "    </tr>\n",
       "  </tbody>\n",
       "</table>\n",
       "</div>"
      ],
      "text/plain": [
       "   userId  movieId  rating   timestamp\n",
       "0       1      110     1.0  1425941529\n",
       "1       1      147     4.5  1425942435\n",
       "2       1      858     5.0  1425941523\n",
       "3       1     1221     5.0  1425941546\n",
       "4       1     1246     5.0  1425941556"
      ]
     },
     "execution_count": 3,
     "metadata": {},
     "output_type": "execute_result"
    }
   ],
   "source": [
    "print(ratings_df.shape)\n",
    "ratings_df.head()"
   ]
  },
  {
   "cell_type": "code",
   "execution_count": 4,
   "metadata": {
    "execution": {
     "iopub.execute_input": "2024-05-08T00:09:11.867532Z",
     "iopub.status.busy": "2024-05-08T00:09:11.867247Z",
     "iopub.status.idle": "2024-05-08T00:09:11.876869Z",
     "shell.execute_reply": "2024-05-08T00:09:11.876081Z",
     "shell.execute_reply.started": "2024-05-08T00:09:11.867507Z"
    }
   },
   "outputs": [
    {
     "name": "stdout",
     "output_type": "stream",
     "text": [
      "(9125, 3)\n"
     ]
    },
    {
     "data": {
      "text/html": [
       "<div>\n",
       "<style scoped>\n",
       "    .dataframe tbody tr th:only-of-type {\n",
       "        vertical-align: middle;\n",
       "    }\n",
       "\n",
       "    .dataframe tbody tr th {\n",
       "        vertical-align: top;\n",
       "    }\n",
       "\n",
       "    .dataframe thead th {\n",
       "        text-align: right;\n",
       "    }\n",
       "</style>\n",
       "<table border=\"1\" class=\"dataframe\">\n",
       "  <thead>\n",
       "    <tr style=\"text-align: right;\">\n",
       "      <th></th>\n",
       "      <th>movieId</th>\n",
       "      <th>imdbId</th>\n",
       "      <th>tmdbId</th>\n",
       "    </tr>\n",
       "  </thead>\n",
       "  <tbody>\n",
       "    <tr>\n",
       "      <th>0</th>\n",
       "      <td>1</td>\n",
       "      <td>114709</td>\n",
       "      <td>862.0</td>\n",
       "    </tr>\n",
       "    <tr>\n",
       "      <th>1</th>\n",
       "      <td>2</td>\n",
       "      <td>113497</td>\n",
       "      <td>8844.0</td>\n",
       "    </tr>\n",
       "    <tr>\n",
       "      <th>2</th>\n",
       "      <td>3</td>\n",
       "      <td>113228</td>\n",
       "      <td>15602.0</td>\n",
       "    </tr>\n",
       "    <tr>\n",
       "      <th>3</th>\n",
       "      <td>4</td>\n",
       "      <td>114885</td>\n",
       "      <td>31357.0</td>\n",
       "    </tr>\n",
       "    <tr>\n",
       "      <th>4</th>\n",
       "      <td>5</td>\n",
       "      <td>113041</td>\n",
       "      <td>11862.0</td>\n",
       "    </tr>\n",
       "  </tbody>\n",
       "</table>\n",
       "</div>"
      ],
      "text/plain": [
       "   movieId  imdbId   tmdbId\n",
       "0        1  114709    862.0\n",
       "1        2  113497   8844.0\n",
       "2        3  113228  15602.0\n",
       "3        4  114885  31357.0\n",
       "4        5  113041  11862.0"
      ]
     },
     "execution_count": 4,
     "metadata": {},
     "output_type": "execute_result"
    }
   ],
   "source": [
    "print(links_small_df.shape)\n",
    "links_small_df.head()"
   ]
  },
  {
   "cell_type": "code",
   "execution_count": 5,
   "metadata": {
    "execution": {
     "iopub.execute_input": "2024-05-08T00:09:11.879406Z",
     "iopub.status.busy": "2024-05-08T00:09:11.879015Z",
     "iopub.status.idle": "2024-05-08T00:09:11.898746Z",
     "shell.execute_reply": "2024-05-08T00:09:11.897935Z",
     "shell.execute_reply.started": "2024-05-08T00:09:11.879380Z"
    }
   },
   "outputs": [
    {
     "name": "stdout",
     "output_type": "stream",
     "text": [
      "(45476, 3)\n"
     ]
    },
    {
     "data": {
      "text/html": [
       "<div>\n",
       "<style scoped>\n",
       "    .dataframe tbody tr th:only-of-type {\n",
       "        vertical-align: middle;\n",
       "    }\n",
       "\n",
       "    .dataframe tbody tr th {\n",
       "        vertical-align: top;\n",
       "    }\n",
       "\n",
       "    .dataframe thead th {\n",
       "        text-align: right;\n",
       "    }\n",
       "</style>\n",
       "<table border=\"1\" class=\"dataframe\">\n",
       "  <thead>\n",
       "    <tr style=\"text-align: right;\">\n",
       "      <th></th>\n",
       "      <th>cast</th>\n",
       "      <th>crew</th>\n",
       "      <th>id</th>\n",
       "    </tr>\n",
       "  </thead>\n",
       "  <tbody>\n",
       "    <tr>\n",
       "      <th>0</th>\n",
       "      <td>[{'cast_id': 14, 'character': 'Woody (voice)',...</td>\n",
       "      <td>[{'credit_id': '52fe4284c3a36847f8024f49', 'de...</td>\n",
       "      <td>862</td>\n",
       "    </tr>\n",
       "    <tr>\n",
       "      <th>1</th>\n",
       "      <td>[{'cast_id': 1, 'character': 'Alan Parrish', '...</td>\n",
       "      <td>[{'credit_id': '52fe44bfc3a36847f80a7cd1', 'de...</td>\n",
       "      <td>8844</td>\n",
       "    </tr>\n",
       "    <tr>\n",
       "      <th>2</th>\n",
       "      <td>[{'cast_id': 2, 'character': 'Max Goldman', 'c...</td>\n",
       "      <td>[{'credit_id': '52fe466a9251416c75077a89', 'de...</td>\n",
       "      <td>15602</td>\n",
       "    </tr>\n",
       "    <tr>\n",
       "      <th>3</th>\n",
       "      <td>[{'cast_id': 1, 'character': \"Savannah 'Vannah...</td>\n",
       "      <td>[{'credit_id': '52fe44779251416c91011acb', 'de...</td>\n",
       "      <td>31357</td>\n",
       "    </tr>\n",
       "    <tr>\n",
       "      <th>4</th>\n",
       "      <td>[{'cast_id': 1, 'character': 'George Banks', '...</td>\n",
       "      <td>[{'credit_id': '52fe44959251416c75039ed7', 'de...</td>\n",
       "      <td>11862</td>\n",
       "    </tr>\n",
       "  </tbody>\n",
       "</table>\n",
       "</div>"
      ],
      "text/plain": [
       "                                                cast  \\\n",
       "0  [{'cast_id': 14, 'character': 'Woody (voice)',...   \n",
       "1  [{'cast_id': 1, 'character': 'Alan Parrish', '...   \n",
       "2  [{'cast_id': 2, 'character': 'Max Goldman', 'c...   \n",
       "3  [{'cast_id': 1, 'character': \"Savannah 'Vannah...   \n",
       "4  [{'cast_id': 1, 'character': 'George Banks', '...   \n",
       "\n",
       "                                                crew     id  \n",
       "0  [{'credit_id': '52fe4284c3a36847f8024f49', 'de...    862  \n",
       "1  [{'credit_id': '52fe44bfc3a36847f80a7cd1', 'de...   8844  \n",
       "2  [{'credit_id': '52fe466a9251416c75077a89', 'de...  15602  \n",
       "3  [{'credit_id': '52fe44779251416c91011acb', 'de...  31357  \n",
       "4  [{'credit_id': '52fe44959251416c75039ed7', 'de...  11862  "
      ]
     },
     "execution_count": 5,
     "metadata": {},
     "output_type": "execute_result"
    }
   ],
   "source": [
    "print(credits_df.shape)\n",
    "credits_df.head()"
   ]
  },
  {
   "cell_type": "code",
   "execution_count": 6,
   "metadata": {
    "execution": {
     "iopub.execute_input": "2024-05-08T00:09:11.900131Z",
     "iopub.status.busy": "2024-05-08T00:09:11.899857Z",
     "iopub.status.idle": "2024-05-08T00:09:11.911695Z",
     "shell.execute_reply": "2024-05-08T00:09:11.910958Z",
     "shell.execute_reply.started": "2024-05-08T00:09:11.900107Z"
    }
   },
   "outputs": [
    {
     "name": "stdout",
     "output_type": "stream",
     "text": [
      "(46419, 2)\n"
     ]
    },
    {
     "data": {
      "text/html": [
       "<div>\n",
       "<style scoped>\n",
       "    .dataframe tbody tr th:only-of-type {\n",
       "        vertical-align: middle;\n",
       "    }\n",
       "\n",
       "    .dataframe tbody tr th {\n",
       "        vertical-align: top;\n",
       "    }\n",
       "\n",
       "    .dataframe thead th {\n",
       "        text-align: right;\n",
       "    }\n",
       "</style>\n",
       "<table border=\"1\" class=\"dataframe\">\n",
       "  <thead>\n",
       "    <tr style=\"text-align: right;\">\n",
       "      <th></th>\n",
       "      <th>id</th>\n",
       "      <th>keywords</th>\n",
       "    </tr>\n",
       "  </thead>\n",
       "  <tbody>\n",
       "    <tr>\n",
       "      <th>0</th>\n",
       "      <td>862</td>\n",
       "      <td>[{'id': 931, 'name': 'jealousy'}, {'id': 4290,...</td>\n",
       "    </tr>\n",
       "    <tr>\n",
       "      <th>1</th>\n",
       "      <td>8844</td>\n",
       "      <td>[{'id': 10090, 'name': 'board game'}, {'id': 1...</td>\n",
       "    </tr>\n",
       "    <tr>\n",
       "      <th>2</th>\n",
       "      <td>15602</td>\n",
       "      <td>[{'id': 1495, 'name': 'fishing'}, {'id': 12392...</td>\n",
       "    </tr>\n",
       "    <tr>\n",
       "      <th>3</th>\n",
       "      <td>31357</td>\n",
       "      <td>[{'id': 818, 'name': 'based on novel'}, {'id':...</td>\n",
       "    </tr>\n",
       "    <tr>\n",
       "      <th>4</th>\n",
       "      <td>11862</td>\n",
       "      <td>[{'id': 1009, 'name': 'baby'}, {'id': 1599, 'n...</td>\n",
       "    </tr>\n",
       "  </tbody>\n",
       "</table>\n",
       "</div>"
      ],
      "text/plain": [
       "      id                                           keywords\n",
       "0    862  [{'id': 931, 'name': 'jealousy'}, {'id': 4290,...\n",
       "1   8844  [{'id': 10090, 'name': 'board game'}, {'id': 1...\n",
       "2  15602  [{'id': 1495, 'name': 'fishing'}, {'id': 12392...\n",
       "3  31357  [{'id': 818, 'name': 'based on novel'}, {'id':...\n",
       "4  11862  [{'id': 1009, 'name': 'baby'}, {'id': 1599, 'n..."
      ]
     },
     "execution_count": 6,
     "metadata": {},
     "output_type": "execute_result"
    }
   ],
   "source": [
    "print(keywords_df.shape)\n",
    "keywords_df.head()"
   ]
  },
  {
   "cell_type": "code",
   "execution_count": 7,
   "metadata": {
    "execution": {
     "iopub.execute_input": "2024-05-08T00:09:11.913134Z",
     "iopub.status.busy": "2024-05-08T00:09:11.912855Z",
     "iopub.status.idle": "2024-05-08T00:09:11.962838Z",
     "shell.execute_reply": "2024-05-08T00:09:11.962008Z",
     "shell.execute_reply.started": "2024-05-08T00:09:11.913109Z"
    }
   },
   "outputs": [
    {
     "data": {
      "text/html": [
       "<div>\n",
       "<style scoped>\n",
       "    .dataframe tbody tr th:only-of-type {\n",
       "        vertical-align: middle;\n",
       "    }\n",
       "\n",
       "    .dataframe tbody tr th {\n",
       "        vertical-align: top;\n",
       "    }\n",
       "\n",
       "    .dataframe thead th {\n",
       "        text-align: right;\n",
       "    }\n",
       "</style>\n",
       "<table border=\"1\" class=\"dataframe\">\n",
       "  <thead>\n",
       "    <tr style=\"text-align: right;\">\n",
       "      <th></th>\n",
       "      <th>cast</th>\n",
       "      <th>crew</th>\n",
       "      <th>id</th>\n",
       "      <th>keywords</th>\n",
       "    </tr>\n",
       "  </thead>\n",
       "  <tbody>\n",
       "    <tr>\n",
       "      <th>0</th>\n",
       "      <td>[{'cast_id': 14, 'character': 'Woody (voice)',...</td>\n",
       "      <td>[{'credit_id': '52fe4284c3a36847f8024f49', 'de...</td>\n",
       "      <td>862</td>\n",
       "      <td>[{'id': 931, 'name': 'jealousy'}, {'id': 4290,...</td>\n",
       "    </tr>\n",
       "    <tr>\n",
       "      <th>1</th>\n",
       "      <td>[{'cast_id': 1, 'character': 'Alan Parrish', '...</td>\n",
       "      <td>[{'credit_id': '52fe44bfc3a36847f80a7cd1', 'de...</td>\n",
       "      <td>8844</td>\n",
       "      <td>[{'id': 10090, 'name': 'board game'}, {'id': 1...</td>\n",
       "    </tr>\n",
       "    <tr>\n",
       "      <th>2</th>\n",
       "      <td>[{'cast_id': 2, 'character': 'Max Goldman', 'c...</td>\n",
       "      <td>[{'credit_id': '52fe466a9251416c75077a89', 'de...</td>\n",
       "      <td>15602</td>\n",
       "      <td>[{'id': 1495, 'name': 'fishing'}, {'id': 12392...</td>\n",
       "    </tr>\n",
       "    <tr>\n",
       "      <th>3</th>\n",
       "      <td>[{'cast_id': 1, 'character': \"Savannah 'Vannah...</td>\n",
       "      <td>[{'credit_id': '52fe44779251416c91011acb', 'de...</td>\n",
       "      <td>31357</td>\n",
       "      <td>[{'id': 818, 'name': 'based on novel'}, {'id':...</td>\n",
       "    </tr>\n",
       "    <tr>\n",
       "      <th>4</th>\n",
       "      <td>[{'cast_id': 1, 'character': 'George Banks', '...</td>\n",
       "      <td>[{'credit_id': '52fe44959251416c75039ed7', 'de...</td>\n",
       "      <td>11862</td>\n",
       "      <td>[{'id': 1009, 'name': 'baby'}, {'id': 1599, 'n...</td>\n",
       "    </tr>\n",
       "  </tbody>\n",
       "</table>\n",
       "</div>"
      ],
      "text/plain": [
       "                                                cast  \\\n",
       "0  [{'cast_id': 14, 'character': 'Woody (voice)',...   \n",
       "1  [{'cast_id': 1, 'character': 'Alan Parrish', '...   \n",
       "2  [{'cast_id': 2, 'character': 'Max Goldman', 'c...   \n",
       "3  [{'cast_id': 1, 'character': \"Savannah 'Vannah...   \n",
       "4  [{'cast_id': 1, 'character': 'George Banks', '...   \n",
       "\n",
       "                                                crew     id  \\\n",
       "0  [{'credit_id': '52fe4284c3a36847f8024f49', 'de...    862   \n",
       "1  [{'credit_id': '52fe44bfc3a36847f80a7cd1', 'de...   8844   \n",
       "2  [{'credit_id': '52fe466a9251416c75077a89', 'de...  15602   \n",
       "3  [{'credit_id': '52fe44779251416c91011acb', 'de...  31357   \n",
       "4  [{'credit_id': '52fe44959251416c75039ed7', 'de...  11862   \n",
       "\n",
       "                                            keywords  \n",
       "0  [{'id': 931, 'name': 'jealousy'}, {'id': 4290,...  \n",
       "1  [{'id': 10090, 'name': 'board game'}, {'id': 1...  \n",
       "2  [{'id': 1495, 'name': 'fishing'}, {'id': 12392...  \n",
       "3  [{'id': 818, 'name': 'based on novel'}, {'id':...  \n",
       "4  [{'id': 1009, 'name': 'baby'}, {'id': 1599, 'n...  "
      ]
     },
     "execution_count": 7,
     "metadata": {},
     "output_type": "execute_result"
    }
   ],
   "source": [
    "credit_key_df = pd.merge(credits_df, keywords_df, on = 'id')\n",
    "credit_key_df.head()"
   ]
  },
  {
   "cell_type": "code",
   "execution_count": 8,
   "metadata": {
    "execution": {
     "iopub.execute_input": "2024-05-08T00:09:11.964390Z",
     "iopub.status.busy": "2024-05-08T00:09:11.964100Z",
     "iopub.status.idle": "2024-05-08T00:09:11.988450Z",
     "shell.execute_reply": "2024-05-08T00:09:11.987685Z",
     "shell.execute_reply.started": "2024-05-08T00:09:11.964364Z"
    }
   },
   "outputs": [
    {
     "data": {
      "text/html": [
       "<div>\n",
       "<style scoped>\n",
       "    .dataframe tbody tr th:only-of-type {\n",
       "        vertical-align: middle;\n",
       "    }\n",
       "\n",
       "    .dataframe tbody tr th {\n",
       "        vertical-align: top;\n",
       "    }\n",
       "\n",
       "    .dataframe thead th {\n",
       "        text-align: right;\n",
       "    }\n",
       "</style>\n",
       "<table border=\"1\" class=\"dataframe\">\n",
       "  <thead>\n",
       "    <tr style=\"text-align: right;\">\n",
       "      <th></th>\n",
       "      <th>adult</th>\n",
       "      <th>belongs_to_collection</th>\n",
       "      <th>budget</th>\n",
       "      <th>genres</th>\n",
       "      <th>homepage</th>\n",
       "      <th>id</th>\n",
       "      <th>imdb_id</th>\n",
       "      <th>original_language</th>\n",
       "      <th>original_title</th>\n",
       "      <th>overview</th>\n",
       "      <th>...</th>\n",
       "      <th>release_date</th>\n",
       "      <th>revenue</th>\n",
       "      <th>runtime</th>\n",
       "      <th>spoken_languages</th>\n",
       "      <th>status</th>\n",
       "      <th>tagline</th>\n",
       "      <th>title</th>\n",
       "      <th>video</th>\n",
       "      <th>vote_average</th>\n",
       "      <th>vote_count</th>\n",
       "    </tr>\n",
       "  </thead>\n",
       "  <tbody>\n",
       "    <tr>\n",
       "      <th>0</th>\n",
       "      <td>False</td>\n",
       "      <td>{'id': 10194, 'name': 'Toy Story Collection', ...</td>\n",
       "      <td>30000000</td>\n",
       "      <td>[{'id': 16, 'name': 'Animation'}, {'id': 35, '...</td>\n",
       "      <td>http://toystory.disney.com/toy-story</td>\n",
       "      <td>862</td>\n",
       "      <td>tt0114709</td>\n",
       "      <td>en</td>\n",
       "      <td>Toy Story</td>\n",
       "      <td>Led by Woody, Andy's toys live happily in his ...</td>\n",
       "      <td>...</td>\n",
       "      <td>1995-10-30</td>\n",
       "      <td>373554033.0</td>\n",
       "      <td>81.0</td>\n",
       "      <td>[{'iso_639_1': 'en', 'name': 'English'}]</td>\n",
       "      <td>Released</td>\n",
       "      <td>NaN</td>\n",
       "      <td>Toy Story</td>\n",
       "      <td>False</td>\n",
       "      <td>7.7</td>\n",
       "      <td>5415.0</td>\n",
       "    </tr>\n",
       "    <tr>\n",
       "      <th>1</th>\n",
       "      <td>False</td>\n",
       "      <td>NaN</td>\n",
       "      <td>65000000</td>\n",
       "      <td>[{'id': 12, 'name': 'Adventure'}, {'id': 14, '...</td>\n",
       "      <td>NaN</td>\n",
       "      <td>8844</td>\n",
       "      <td>tt0113497</td>\n",
       "      <td>en</td>\n",
       "      <td>Jumanji</td>\n",
       "      <td>When siblings Judy and Peter discover an encha...</td>\n",
       "      <td>...</td>\n",
       "      <td>1995-12-15</td>\n",
       "      <td>262797249.0</td>\n",
       "      <td>104.0</td>\n",
       "      <td>[{'iso_639_1': 'en', 'name': 'English'}, {'iso...</td>\n",
       "      <td>Released</td>\n",
       "      <td>Roll the dice and unleash the excitement!</td>\n",
       "      <td>Jumanji</td>\n",
       "      <td>False</td>\n",
       "      <td>6.9</td>\n",
       "      <td>2413.0</td>\n",
       "    </tr>\n",
       "    <tr>\n",
       "      <th>2</th>\n",
       "      <td>False</td>\n",
       "      <td>{'id': 119050, 'name': 'Grumpy Old Men Collect...</td>\n",
       "      <td>0</td>\n",
       "      <td>[{'id': 10749, 'name': 'Romance'}, {'id': 35, ...</td>\n",
       "      <td>NaN</td>\n",
       "      <td>15602</td>\n",
       "      <td>tt0113228</td>\n",
       "      <td>en</td>\n",
       "      <td>Grumpier Old Men</td>\n",
       "      <td>A family wedding reignites the ancient feud be...</td>\n",
       "      <td>...</td>\n",
       "      <td>1995-12-22</td>\n",
       "      <td>0.0</td>\n",
       "      <td>101.0</td>\n",
       "      <td>[{'iso_639_1': 'en', 'name': 'English'}]</td>\n",
       "      <td>Released</td>\n",
       "      <td>Still Yelling. Still Fighting. Still Ready for...</td>\n",
       "      <td>Grumpier Old Men</td>\n",
       "      <td>False</td>\n",
       "      <td>6.5</td>\n",
       "      <td>92.0</td>\n",
       "    </tr>\n",
       "    <tr>\n",
       "      <th>3</th>\n",
       "      <td>False</td>\n",
       "      <td>NaN</td>\n",
       "      <td>16000000</td>\n",
       "      <td>[{'id': 35, 'name': 'Comedy'}, {'id': 18, 'nam...</td>\n",
       "      <td>NaN</td>\n",
       "      <td>31357</td>\n",
       "      <td>tt0114885</td>\n",
       "      <td>en</td>\n",
       "      <td>Waiting to Exhale</td>\n",
       "      <td>Cheated on, mistreated and stepped on, the wom...</td>\n",
       "      <td>...</td>\n",
       "      <td>1995-12-22</td>\n",
       "      <td>81452156.0</td>\n",
       "      <td>127.0</td>\n",
       "      <td>[{'iso_639_1': 'en', 'name': 'English'}]</td>\n",
       "      <td>Released</td>\n",
       "      <td>Friends are the people who let you be yourself...</td>\n",
       "      <td>Waiting to Exhale</td>\n",
       "      <td>False</td>\n",
       "      <td>6.1</td>\n",
       "      <td>34.0</td>\n",
       "    </tr>\n",
       "    <tr>\n",
       "      <th>4</th>\n",
       "      <td>False</td>\n",
       "      <td>{'id': 96871, 'name': 'Father of the Bride Col...</td>\n",
       "      <td>0</td>\n",
       "      <td>[{'id': 35, 'name': 'Comedy'}]</td>\n",
       "      <td>NaN</td>\n",
       "      <td>11862</td>\n",
       "      <td>tt0113041</td>\n",
       "      <td>en</td>\n",
       "      <td>Father of the Bride Part II</td>\n",
       "      <td>Just when George Banks has recovered from his ...</td>\n",
       "      <td>...</td>\n",
       "      <td>1995-02-10</td>\n",
       "      <td>76578911.0</td>\n",
       "      <td>106.0</td>\n",
       "      <td>[{'iso_639_1': 'en', 'name': 'English'}]</td>\n",
       "      <td>Released</td>\n",
       "      <td>Just When His World Is Back To Normal... He's ...</td>\n",
       "      <td>Father of the Bride Part II</td>\n",
       "      <td>False</td>\n",
       "      <td>5.7</td>\n",
       "      <td>173.0</td>\n",
       "    </tr>\n",
       "  </tbody>\n",
       "</table>\n",
       "<p>5 rows × 24 columns</p>\n",
       "</div>"
      ],
      "text/plain": [
       "   adult                              belongs_to_collection    budget  \\\n",
       "0  False  {'id': 10194, 'name': 'Toy Story Collection', ...  30000000   \n",
       "1  False                                                NaN  65000000   \n",
       "2  False  {'id': 119050, 'name': 'Grumpy Old Men Collect...         0   \n",
       "3  False                                                NaN  16000000   \n",
       "4  False  {'id': 96871, 'name': 'Father of the Bride Col...         0   \n",
       "\n",
       "                                              genres  \\\n",
       "0  [{'id': 16, 'name': 'Animation'}, {'id': 35, '...   \n",
       "1  [{'id': 12, 'name': 'Adventure'}, {'id': 14, '...   \n",
       "2  [{'id': 10749, 'name': 'Romance'}, {'id': 35, ...   \n",
       "3  [{'id': 35, 'name': 'Comedy'}, {'id': 18, 'nam...   \n",
       "4                     [{'id': 35, 'name': 'Comedy'}]   \n",
       "\n",
       "                               homepage     id    imdb_id original_language  \\\n",
       "0  http://toystory.disney.com/toy-story    862  tt0114709                en   \n",
       "1                                   NaN   8844  tt0113497                en   \n",
       "2                                   NaN  15602  tt0113228                en   \n",
       "3                                   NaN  31357  tt0114885                en   \n",
       "4                                   NaN  11862  tt0113041                en   \n",
       "\n",
       "                original_title  \\\n",
       "0                    Toy Story   \n",
       "1                      Jumanji   \n",
       "2             Grumpier Old Men   \n",
       "3            Waiting to Exhale   \n",
       "4  Father of the Bride Part II   \n",
       "\n",
       "                                            overview  ... release_date  \\\n",
       "0  Led by Woody, Andy's toys live happily in his ...  ...   1995-10-30   \n",
       "1  When siblings Judy and Peter discover an encha...  ...   1995-12-15   \n",
       "2  A family wedding reignites the ancient feud be...  ...   1995-12-22   \n",
       "3  Cheated on, mistreated and stepped on, the wom...  ...   1995-12-22   \n",
       "4  Just when George Banks has recovered from his ...  ...   1995-02-10   \n",
       "\n",
       "       revenue runtime                                   spoken_languages  \\\n",
       "0  373554033.0    81.0           [{'iso_639_1': 'en', 'name': 'English'}]   \n",
       "1  262797249.0   104.0  [{'iso_639_1': 'en', 'name': 'English'}, {'iso...   \n",
       "2          0.0   101.0           [{'iso_639_1': 'en', 'name': 'English'}]   \n",
       "3   81452156.0   127.0           [{'iso_639_1': 'en', 'name': 'English'}]   \n",
       "4   76578911.0   106.0           [{'iso_639_1': 'en', 'name': 'English'}]   \n",
       "\n",
       "     status                                            tagline  \\\n",
       "0  Released                                                NaN   \n",
       "1  Released          Roll the dice and unleash the excitement!   \n",
       "2  Released  Still Yelling. Still Fighting. Still Ready for...   \n",
       "3  Released  Friends are the people who let you be yourself...   \n",
       "4  Released  Just When His World Is Back To Normal... He's ...   \n",
       "\n",
       "                         title  video vote_average vote_count  \n",
       "0                    Toy Story  False          7.7     5415.0  \n",
       "1                      Jumanji  False          6.9     2413.0  \n",
       "2             Grumpier Old Men  False          6.5       92.0  \n",
       "3            Waiting to Exhale  False          6.1       34.0  \n",
       "4  Father of the Bride Part II  False          5.7      173.0  \n",
       "\n",
       "[5 rows x 24 columns]"
      ]
     },
     "execution_count": 8,
     "metadata": {},
     "output_type": "execute_result"
    }
   ],
   "source": [
    "metadata_df.head()"
   ]
  },
  {
   "cell_type": "code",
   "execution_count": 9,
   "metadata": {
    "execution": {
     "iopub.execute_input": "2024-05-08T00:09:11.989966Z",
     "iopub.status.busy": "2024-05-08T00:09:11.989650Z",
     "iopub.status.idle": "2024-05-08T00:09:12.043278Z",
     "shell.execute_reply": "2024-05-08T00:09:12.042428Z",
     "shell.execute_reply.started": "2024-05-08T00:09:11.989940Z"
    }
   },
   "outputs": [],
   "source": [
    "metadata_df['imdb_id'] = metadata_df['imdb_id'].str.replace('tt0','')\n",
    "metadata_df['imdb_id'] = metadata_df['imdb_id'].str.replace('tt','')"
   ]
  },
  {
   "cell_type": "code",
   "execution_count": 10,
   "metadata": {
    "execution": {
     "iopub.execute_input": "2024-05-08T00:09:12.044667Z",
     "iopub.status.busy": "2024-05-08T00:09:12.044422Z",
     "iopub.status.idle": "2024-05-08T00:09:12.049050Z",
     "shell.execute_reply": "2024-05-08T00:09:12.048113Z",
     "shell.execute_reply.started": "2024-05-08T00:09:12.044646Z"
    }
   },
   "outputs": [
    {
     "name": "stdout",
     "output_type": "stream",
     "text": [
      "(100004, 4)\n"
     ]
    }
   ],
   "source": [
    "print(ratings_small_df.shape)"
   ]
  },
  {
   "cell_type": "code",
   "execution_count": 11,
   "metadata": {
    "execution": {
     "iopub.execute_input": "2024-05-08T00:09:12.052280Z",
     "iopub.status.busy": "2024-05-08T00:09:12.052015Z",
     "iopub.status.idle": "2024-05-08T00:09:12.128651Z",
     "shell.execute_reply": "2024-05-08T00:09:12.127953Z",
     "shell.execute_reply.started": "2024-05-08T00:09:12.052257Z"
    }
   },
   "outputs": [
    {
     "data": {
      "text/plain": [
       "(45463, 24)"
      ]
     },
     "execution_count": 11,
     "metadata": {},
     "output_type": "execute_result"
    }
   ],
   "source": [
    "#There arethree date values that have been stored in the id column,so we are removing that and trying to replace the column as an int type\n",
    "metadata_df = metadata_df[metadata_df['id']!= '1997-08-20']\n",
    "metadata_df = metadata_df[metadata_df['id']!= '2012-09-29']\n",
    "metadata_df = metadata_df[metadata_df['id']!= '2014-01-01']\n",
    "metadata_df['id'] = metadata_df['id'].astype(int)\n",
    "metadata_df.shape"
   ]
  },
  {
   "cell_type": "code",
   "execution_count": 12,
   "metadata": {
    "execution": {
     "iopub.execute_input": "2024-05-08T00:09:12.129806Z",
     "iopub.status.busy": "2024-05-08T00:09:12.129550Z",
     "iopub.status.idle": "2024-05-08T00:09:12.191195Z",
     "shell.execute_reply": "2024-05-08T00:09:12.190421Z",
     "shell.execute_reply.started": "2024-05-08T00:09:12.129784Z"
    }
   },
   "outputs": [],
   "source": [
    "metadata_credit_key_df = pd.merge(metadata_df , credit_key_df , on = 'id')"
   ]
  },
  {
   "cell_type": "markdown",
   "metadata": {
    "execution": {
     "iopub.execute_input": "2023-06-29T12:56:19.16999Z",
     "iopub.status.busy": "2023-06-29T12:56:19.169376Z",
     "iopub.status.idle": "2023-06-29T12:56:29.354Z",
     "shell.execute_reply": "2023-06-29T12:56:29.352597Z",
     "shell.execute_reply.started": "2023-06-29T12:56:19.169957Z"
    }
   },
   "source": [
    "# Working on relevant datasets"
   ]
  },
  {
   "cell_type": "code",
   "execution_count": 13,
   "metadata": {
    "execution": {
     "iopub.execute_input": "2024-05-08T00:09:12.192739Z",
     "iopub.status.busy": "2024-05-08T00:09:12.192444Z",
     "iopub.status.idle": "2024-05-08T00:09:12.435335Z",
     "shell.execute_reply": "2024-05-08T00:09:12.434542Z",
     "shell.execute_reply.started": "2024-05-08T00:09:12.192713Z"
    }
   },
   "outputs": [
    {
     "name": "stdout",
     "output_type": "stream",
     "text": [
      "--------------------------------SHAPE---------------------------------\n",
      "(45463, 24)\n",
      "---------------------------------TYPE---------------------------------\n",
      "adult                     object\n",
      "belongs_to_collection     object\n",
      "budget                    object\n",
      "genres                    object\n",
      "homepage                  object\n",
      "id                         int64\n",
      "imdb_id                   object\n",
      "original_language         object\n",
      "original_title            object\n",
      "overview                  object\n",
      "popularity                object\n",
      "poster_path               object\n",
      "production_companies      object\n",
      "production_countries      object\n",
      "release_date              object\n",
      "revenue                  float64\n",
      "runtime                  float64\n",
      "spoken_languages          object\n",
      "status                    object\n",
      "tagline                   object\n",
      "title                     object\n",
      "video                     object\n",
      "vote_average             float64\n",
      "vote_count               float64\n",
      "dtype: object\n",
      "---------------------------------INFO---------------------------------\n",
      "<class 'pandas.core.frame.DataFrame'>\n",
      "Index: 45463 entries, 0 to 45465\n",
      "Data columns (total 24 columns):\n",
      " #   Column                 Non-Null Count  Dtype  \n",
      "---  ------                 --------------  -----  \n",
      " 0   adult                  45463 non-null  object \n",
      " 1   belongs_to_collection  4491 non-null   object \n",
      " 2   budget                 45463 non-null  object \n",
      " 3   genres                 45463 non-null  object \n",
      " 4   homepage               7779 non-null   object \n",
      " 5   id                     45463 non-null  int64  \n",
      " 6   imdb_id                45446 non-null  object \n",
      " 7   original_language      45452 non-null  object \n",
      " 8   original_title         45463 non-null  object \n",
      " 9   overview               44509 non-null  object \n",
      " 10  popularity             45460 non-null  object \n",
      " 11  poster_path            45077 non-null  object \n",
      " 12  production_companies   45460 non-null  object \n",
      " 13  production_countries   45460 non-null  object \n",
      " 14  release_date           45376 non-null  object \n",
      " 15  revenue                45460 non-null  float64\n",
      " 16  runtime                45203 non-null  float64\n",
      " 17  spoken_languages       45460 non-null  object \n",
      " 18  status                 45379 non-null  object \n",
      " 19  tagline                20412 non-null  object \n",
      " 20  title                  45460 non-null  object \n",
      " 21  video                  45460 non-null  object \n",
      " 22  vote_average           45460 non-null  float64\n",
      " 23  vote_count             45460 non-null  float64\n",
      "dtypes: float64(4), int64(1), object(19)\n",
      "memory usage: 8.7+ MB\n",
      "None\n",
      "----------------------------------NA----------------------------------\n",
      "adult                        0\n",
      "belongs_to_collection    40972\n",
      "budget                       0\n",
      "genres                       0\n",
      "homepage                 37684\n",
      "id                           0\n",
      "imdb_id                     17\n",
      "original_language           11\n",
      "original_title               0\n",
      "overview                   954\n",
      "popularity                   3\n",
      "poster_path                386\n",
      "production_companies         3\n",
      "production_countries         3\n",
      "release_date                87\n",
      "revenue                      3\n",
      "runtime                    260\n",
      "spoken_languages             3\n",
      "status                      84\n",
      "tagline                  25051\n",
      "title                        3\n",
      "video                        3\n",
      "vote_average                 3\n",
      "vote_count                   3\n",
      "dtype: int64\n",
      "-------------------------------DESCRIBE-------------------------------\n",
      "                count          mean           std  min      25%      50%  \\\n",
      "id            45463.0  1.083599e+05  1.124607e+05  2.0  26449.5  60003.0   \n",
      "revenue       45460.0  1.120935e+07  6.433225e+07  0.0      0.0      0.0   \n",
      "runtime       45203.0  9.412820e+01  3.840781e+01  0.0     85.0     95.0   \n",
      "vote_average  45460.0  5.618207e+00  1.924216e+00  0.0      5.0      6.0   \n",
      "vote_count    45460.0  1.098973e+02  4.913104e+02  0.0      3.0     10.0   \n",
      "\n",
      "                   75%           max  \n",
      "id            157328.0  4.691720e+05  \n",
      "revenue            0.0  2.787965e+09  \n",
      "runtime          107.0  1.256000e+03  \n",
      "vote_average       6.8  1.000000e+01  \n",
      "vote_count        34.0  1.407500e+04  \n",
      "-------------------------------NUNIQUE--------------------------------\n",
      "adult                        2\n",
      "belongs_to_collection     1695\n",
      "budget                    1223\n",
      "genres                    4066\n",
      "homepage                  7670\n",
      "id                       45433\n",
      "imdb_id                  45416\n",
      "original_language           89\n",
      "original_title           43371\n",
      "overview                 44306\n",
      "popularity               44175\n",
      "poster_path              45021\n",
      "production_companies     22707\n",
      "production_countries      2390\n",
      "release_date             17333\n",
      "revenue                   6863\n",
      "runtime                    353\n",
      "spoken_languages          1931\n",
      "status                       6\n",
      "tagline                  20283\n",
      "title                    42277\n",
      "video                        2\n",
      "vote_average                92\n",
      "vote_count                1820\n",
      "dtype: int64\n"
     ]
    }
   ],
   "source": [
    "#Function to check dataframes\n",
    "def check_dt(dataframe):\n",
    "    print(\"SHAPE\".center(70, \"-\"))\n",
    "    print(dataframe.shape)\n",
    "    print(\"TYPE\".center(70, \"-\"))\n",
    "    print(dataframe.dtypes)\n",
    "    print(\"INFO\".center(70, \"-\"))\n",
    "    print(dataframe.info())\n",
    "    print(\"NA\".center(70, \"-\"))\n",
    "    print(dataframe.isnull().sum())\n",
    "    print(\"DESCRIBE\".center(70, \"-\"))\n",
    "    print(dataframe.describe().T)\n",
    "    print(\"NUNIQUE\".center(70, \"-\"))\n",
    "    print(dataframe.nunique())\n",
    "check_dt(metadata_df)"
   ]
  },
  {
   "cell_type": "markdown",
   "metadata": {
    "execution": {
     "iopub.execute_input": "2023-08-28T09:41:16.922721Z",
     "iopub.status.busy": "2023-08-28T09:41:16.922276Z",
     "iopub.status.idle": "2023-08-28T09:41:16.928296Z",
     "shell.execute_reply": "2023-08-28T09:41:16.926875Z",
     "shell.execute_reply.started": "2023-08-28T09:41:16.922687Z"
    }
   },
   "source": [
    "# Content Based Recommendation"
   ]
  },
  {
   "cell_type": "markdown",
   "metadata": {},
   "source": [
    "## Using TF-IDF "
   ]
  },
  {
   "cell_type": "code",
   "execution_count": 14,
   "metadata": {
    "execution": {
     "iopub.execute_input": "2024-05-08T00:09:12.436764Z",
     "iopub.status.busy": "2024-05-08T00:09:12.436464Z",
     "iopub.status.idle": "2024-05-08T00:09:12.448654Z",
     "shell.execute_reply": "2024-05-08T00:09:12.448023Z",
     "shell.execute_reply.started": "2024-05-08T00:09:12.436728Z"
    }
   },
   "outputs": [],
   "source": [
    "metadata_df[\"overview\"] = metadata_df[\"overview\"].fillna(\"\")"
   ]
  },
  {
   "cell_type": "code",
   "execution_count": 15,
   "metadata": {
    "execution": {
     "iopub.execute_input": "2024-05-08T00:09:12.449771Z",
     "iopub.status.busy": "2024-05-08T00:09:12.449516Z",
     "iopub.status.idle": "2024-05-08T00:09:16.161666Z",
     "shell.execute_reply": "2024-05-08T00:09:16.160810Z",
     "shell.execute_reply.started": "2024-05-08T00:09:12.449736Z"
    }
   },
   "outputs": [],
   "source": [
    "#creating TF-IDF matrix\n",
    "tfidf = TfidfVectorizer(stop_words=\"english\")\n",
    "tfidf_matrix = tfidf.fit_transform(metadata_df[\"overview\"])"
   ]
  },
  {
   "cell_type": "code",
   "execution_count": 16,
   "metadata": {
    "execution": {
     "iopub.execute_input": "2024-05-08T00:09:16.163135Z",
     "iopub.status.busy": "2024-05-08T00:09:16.162838Z",
     "iopub.status.idle": "2024-05-08T00:09:16.177644Z",
     "shell.execute_reply": "2024-05-08T00:09:16.176688Z",
     "shell.execute_reply.started": "2024-05-08T00:09:16.163109Z"
    }
   },
   "outputs": [
    {
     "name": "stdout",
     "output_type": "stream",
     "text": [
      "  (0, 17764)\t0.13483140468394997\n",
      "  (0, 4388)\t0.1474882244462112\n",
      "  (0, 38030)\t0.10142880926736773\n",
      "  (0, 21887)\t0.10438725114202559\n",
      "  (0, 19641)\t0.13281873425914947\n",
      "  (0, 48558)\t0.10339321363039604\n",
      "  (0, 59519)\t0.13008002839980845\n",
      "  (0, 12490)\t0.12544410597609326\n",
      "  (0, 51108)\t0.13434807786223\n",
      "  (0, 29238)\t0.10093878381737394\n",
      "  (0, 50914)\t0.09190750979278976\n",
      "  (0, 39423)\t0.11907100362134965\n",
      "  (0, 1847)\t0.1409117371499745\n",
      "  (0, 58571)\t0.1135589102041042\n",
      "  (0, 38693)\t0.2062797868291261\n",
      "  (0, 9874)\t0.5028044643301558\n",
      "  (0, 9087)\t0.10635340920377444\n",
      "  (0, 7491)\t0.1238053438144067\n",
      "  (0, 56872)\t0.11124821198451369\n",
      "  (0, 28729)\t0.13311511596337425\n",
      "  (0, 39012)\t0.0871863805054524\n",
      "  (0, 67874)\t0.14878287905973758\n",
      "  (0, 3159)\t0.41178344935492905\n",
      "  (0, 73468)\t0.48098311456983145\n",
      "  (0, 38088)\t0.10739672665533007\n",
      "  :\t:\n",
      "  (45461, 26957)\t0.07350932445482808\n",
      "  (45461, 18919)\t0.0927149738310257\n",
      "  (45461, 18119)\t0.07466602681357981\n",
      "  (45461, 39012)\t0.06829582617553882\n",
      "  (45462, 16520)\t0.32373390574646316\n",
      "  (45462, 7157)\t0.29149376475987127\n",
      "  (45462, 43243)\t0.23656340697598174\n",
      "  (45462, 15834)\t0.24236884891534521\n",
      "  (45462, 69170)\t0.22812101954701466\n",
      "  (45462, 34173)\t0.24146581640420317\n",
      "  (45462, 4443)\t0.31183502896765064\n",
      "  (45462, 3912)\t0.22202758470756573\n",
      "  (45462, 22285)\t0.28697002175965874\n",
      "  (45462, 529)\t0.1937060881497284\n",
      "  (45462, 23012)\t0.18743849113145572\n",
      "  (45462, 740)\t0.19703185906073142\n",
      "  (45462, 55174)\t0.17708451004253967\n",
      "  (45462, 11313)\t0.14948953733790865\n",
      "  (45462, 25817)\t0.1746137886434638\n",
      "  (45462, 17272)\t0.20191648827574743\n",
      "  (45462, 17977)\t0.1400106772782179\n",
      "  (45462, 30389)\t0.23369808491748553\n",
      "  (45462, 42466)\t0.12685894315558982\n",
      "  (45462, 73408)\t0.13406828572665364\n",
      "  (45462, 74030)\t0.10751935437871392\n"
     ]
    }
   ],
   "source": [
    "print(tfidf_matrix)"
   ]
  },
  {
   "cell_type": "code",
   "execution_count": 17,
   "metadata": {
    "execution": {
     "iopub.execute_input": "2024-05-08T00:09:16.178921Z",
     "iopub.status.busy": "2024-05-08T00:09:16.178639Z",
     "iopub.status.idle": "2024-05-08T00:09:51.648600Z",
     "shell.execute_reply": "2024-05-08T00:09:51.647792Z",
     "shell.execute_reply.started": "2024-05-08T00:09:16.178897Z"
    }
   },
   "outputs": [
    {
     "data": {
      "text/plain": [
       "array([[1.        , 0.01504115, 0.        , ..., 0.        , 0.00595447,\n",
       "        0.        ],\n",
       "       [0.01504115, 1.        , 0.04681946, ..., 0.        , 0.02198632,\n",
       "        0.00929394],\n",
       "       [0.        , 0.04681946, 1.        , ..., 0.        , 0.01402544,\n",
       "        0.        ],\n",
       "       ...,\n",
       "       [0.        , 0.        , 0.        , ..., 1.        , 0.        ,\n",
       "        0.        ],\n",
       "       [0.00595447, 0.02198632, 0.01402544, ..., 0.        , 1.        ,\n",
       "        0.        ],\n",
       "       [0.        , 0.00929394, 0.        , ..., 0.        , 0.        ,\n",
       "        1.        ]])"
      ]
     },
     "execution_count": 17,
     "metadata": {},
     "output_type": "execute_result"
    }
   ],
   "source": [
    "#computing cosine similarity\n",
    "cosine_sim = cosine_similarity(tfidf_matrix, tfidf_matrix)\n",
    "cosine_sim"
   ]
  },
  {
   "cell_type": "code",
   "execution_count": 18,
   "metadata": {
    "execution": {
     "iopub.execute_input": "2024-05-08T00:09:51.649908Z",
     "iopub.status.busy": "2024-05-08T00:09:51.649617Z",
     "iopub.status.idle": "2024-05-08T00:09:51.679506Z",
     "shell.execute_reply": "2024-05-08T00:09:51.678863Z",
     "shell.execute_reply.started": "2024-05-08T00:09:51.649884Z"
    }
   },
   "outputs": [
    {
     "data": {
      "text/plain": [
       "title\n",
       "Toy Story                          0\n",
       "Jumanji                            1\n",
       "Grumpier Old Men                   2\n",
       "Waiting to Exhale                  3\n",
       "Father of the Bride Part II        4\n",
       "                               ...  \n",
       "Subdue                         45461\n",
       "Century of Birthing            45462\n",
       "Betrayal                       45463\n",
       "Satan Triumphant               45464\n",
       "Queerama                       45465\n",
       "Length: 45463, dtype: int64"
      ]
     },
     "execution_count": 18,
     "metadata": {},
     "output_type": "execute_result"
    }
   ],
   "source": [
    "movies= pd.Series(metadata_df.index ,index= metadata_df[\"title\"])\n",
    "movies = movies.drop_duplicates()\n",
    "movies"
   ]
  },
  {
   "cell_type": "code",
   "execution_count": 19,
   "metadata": {
    "execution": {
     "iopub.execute_input": "2024-05-08T00:09:51.680665Z",
     "iopub.status.busy": "2024-05-08T00:09:51.680387Z",
     "iopub.status.idle": "2024-05-08T00:09:51.687368Z",
     "shell.execute_reply": "2024-05-08T00:09:51.686659Z",
     "shell.execute_reply.started": "2024-05-08T00:09:51.680616Z"
    }
   },
   "outputs": [
    {
     "data": {
      "text/plain": [
       "title\n",
       "Hidden Assassin    14518\n",
       "dtype: int64"
      ]
     },
     "execution_count": 19,
     "metadata": {},
     "output_type": "execute_result"
    }
   ],
   "source": [
    "#choosing a random movie\n",
    "random_movie  = movies.sample(random_state = 32)\n",
    "random_movie"
   ]
  },
  {
   "cell_type": "code",
   "execution_count": 20,
   "metadata": {
    "execution": {
     "iopub.execute_input": "2024-05-08T00:09:51.688979Z",
     "iopub.status.busy": "2024-05-08T00:09:51.688359Z",
     "iopub.status.idle": "2024-05-08T00:09:51.708370Z",
     "shell.execute_reply": "2024-05-08T00:09:51.707653Z",
     "shell.execute_reply.started": "2024-05-08T00:09:51.688952Z"
    }
   },
   "outputs": [
    {
     "data": {
      "text/plain": [
       "14518                       Hidden Assassin\n",
       "4340                         Apartment Zero\n",
       "36531                                  Khel\n",
       "25374                             Gangsters\n",
       "43278                       Love on the Run\n",
       "26646                           Man on Fire\n",
       "30995                                Tooken\n",
       "26973                          Once a Thief\n",
       "16756                  Background to Danger\n",
       "28377    The Iguana with the Tongue of Fire\n",
       "Name: title, dtype: object"
      ]
     },
     "execution_count": 20,
     "metadata": {},
     "output_type": "execute_result"
    }
   ],
   "source": [
    "# creatingDataFrame of similarity scores and printingtop related movies\n",
    "mov_index = movies[\"Hidden Assassin\"]\n",
    "cosine_sim[mov_index]\n",
    "sim_score = pd.DataFrame(data= cosine_sim[mov_index], columns=[\"Score\"])\n",
    "sim_score\n",
    "related_movies = sim_score.sort_values(\"Score\", ascending=False).head(10)\n",
    "related_movies_index = related_movies.index\n",
    "metadata_df[\"title\"].iloc[related_movies_index]"
   ]
  },
  {
   "cell_type": "code",
   "execution_count": 21,
   "metadata": {
    "execution": {
     "iopub.execute_input": "2024-05-08T00:09:51.709428Z",
     "iopub.status.busy": "2024-05-08T00:09:51.709200Z",
     "iopub.status.idle": "2024-05-08T00:09:51.716647Z",
     "shell.execute_reply": "2024-05-08T00:09:51.715885Z",
     "shell.execute_reply.started": "2024-05-08T00:09:51.709408Z"
    }
   },
   "outputs": [
    {
     "data": {
      "text/html": [
       "<div>\n",
       "<style scoped>\n",
       "    .dataframe tbody tr th:only-of-type {\n",
       "        vertical-align: middle;\n",
       "    }\n",
       "\n",
       "    .dataframe tbody tr th {\n",
       "        vertical-align: top;\n",
       "    }\n",
       "\n",
       "    .dataframe thead th {\n",
       "        text-align: right;\n",
       "    }\n",
       "</style>\n",
       "<table border=\"1\" class=\"dataframe\">\n",
       "  <thead>\n",
       "    <tr style=\"text-align: right;\">\n",
       "      <th></th>\n",
       "      <th>Score</th>\n",
       "    </tr>\n",
       "  </thead>\n",
       "  <tbody>\n",
       "    <tr>\n",
       "      <th>14518</th>\n",
       "      <td>1.000000</td>\n",
       "    </tr>\n",
       "    <tr>\n",
       "      <th>4340</th>\n",
       "      <td>0.259579</td>\n",
       "    </tr>\n",
       "    <tr>\n",
       "      <th>36528</th>\n",
       "      <td>0.256268</td>\n",
       "    </tr>\n",
       "    <tr>\n",
       "      <th>25373</th>\n",
       "      <td>0.250795</td>\n",
       "    </tr>\n",
       "    <tr>\n",
       "      <th>43275</th>\n",
       "      <td>0.218851</td>\n",
       "    </tr>\n",
       "    <tr>\n",
       "      <th>26645</th>\n",
       "      <td>0.214120</td>\n",
       "    </tr>\n",
       "    <tr>\n",
       "      <th>30993</th>\n",
       "      <td>0.210298</td>\n",
       "    </tr>\n",
       "    <tr>\n",
       "      <th>26972</th>\n",
       "      <td>0.206063</td>\n",
       "    </tr>\n",
       "    <tr>\n",
       "      <th>16756</th>\n",
       "      <td>0.205012</td>\n",
       "    </tr>\n",
       "    <tr>\n",
       "      <th>28376</th>\n",
       "      <td>0.204894</td>\n",
       "    </tr>\n",
       "  </tbody>\n",
       "</table>\n",
       "</div>"
      ],
      "text/plain": [
       "          Score\n",
       "14518  1.000000\n",
       "4340   0.259579\n",
       "36528  0.256268\n",
       "25373  0.250795\n",
       "43275  0.218851\n",
       "26645  0.214120\n",
       "30993  0.210298\n",
       "26972  0.206063\n",
       "16756  0.205012\n",
       "28376  0.204894"
      ]
     },
     "execution_count": 21,
     "metadata": {},
     "output_type": "execute_result"
    }
   ],
   "source": [
    "related_movies"
   ]
  },
  {
   "cell_type": "markdown",
   "metadata": {},
   "source": [
    "# Item based Recommendation"
   ]
  },
  {
   "cell_type": "code",
   "execution_count": 22,
   "metadata": {
    "execution": {
     "iopub.execute_input": "2024-05-08T00:09:51.717984Z",
     "iopub.status.busy": "2024-05-08T00:09:51.717702Z",
     "iopub.status.idle": "2024-05-08T00:09:51.955884Z",
     "shell.execute_reply": "2024-05-08T00:09:51.954960Z",
     "shell.execute_reply.started": "2024-05-08T00:09:51.717962Z"
    }
   },
   "outputs": [],
   "source": [
    "ratings_df.drop('timestamp', axis =1 , inplace = True)"
   ]
  },
  {
   "cell_type": "code",
   "execution_count": 23,
   "metadata": {
    "execution": {
     "iopub.execute_input": "2024-05-08T00:09:51.957292Z",
     "iopub.status.busy": "2024-05-08T00:09:51.957010Z",
     "iopub.status.idle": "2024-05-08T00:09:51.974248Z",
     "shell.execute_reply": "2024-05-08T00:09:51.973417Z",
     "shell.execute_reply.started": "2024-05-08T00:09:51.957268Z"
    }
   },
   "outputs": [
    {
     "data": {
      "text/html": [
       "<div>\n",
       "<style scoped>\n",
       "    .dataframe tbody tr th:only-of-type {\n",
       "        vertical-align: middle;\n",
       "    }\n",
       "\n",
       "    .dataframe tbody tr th {\n",
       "        vertical-align: top;\n",
       "    }\n",
       "\n",
       "    .dataframe thead th {\n",
       "        text-align: right;\n",
       "    }\n",
       "</style>\n",
       "<table border=\"1\" class=\"dataframe\">\n",
       "  <thead>\n",
       "    <tr style=\"text-align: right;\">\n",
       "      <th></th>\n",
       "      <th>userId</th>\n",
       "      <th>movieId</th>\n",
       "      <th>rating</th>\n",
       "    </tr>\n",
       "  </thead>\n",
       "  <tbody>\n",
       "    <tr>\n",
       "      <th>0</th>\n",
       "      <td>1</td>\n",
       "      <td>110</td>\n",
       "      <td>1.0</td>\n",
       "    </tr>\n",
       "    <tr>\n",
       "      <th>1</th>\n",
       "      <td>1</td>\n",
       "      <td>147</td>\n",
       "      <td>4.5</td>\n",
       "    </tr>\n",
       "    <tr>\n",
       "      <th>2</th>\n",
       "      <td>1</td>\n",
       "      <td>858</td>\n",
       "      <td>5.0</td>\n",
       "    </tr>\n",
       "    <tr>\n",
       "      <th>3</th>\n",
       "      <td>1</td>\n",
       "      <td>1221</td>\n",
       "      <td>5.0</td>\n",
       "    </tr>\n",
       "    <tr>\n",
       "      <th>4</th>\n",
       "      <td>1</td>\n",
       "      <td>1246</td>\n",
       "      <td>5.0</td>\n",
       "    </tr>\n",
       "  </tbody>\n",
       "</table>\n",
       "</div>"
      ],
      "text/plain": [
       "   userId  movieId  rating\n",
       "0       1      110     1.0\n",
       "1       1      147     4.5\n",
       "2       1      858     5.0\n",
       "3       1     1221     5.0\n",
       "4       1     1246     5.0"
      ]
     },
     "execution_count": 23,
     "metadata": {},
     "output_type": "execute_result"
    }
   ],
   "source": [
    "ratings_df.head()"
   ]
  },
  {
   "cell_type": "code",
   "execution_count": 24,
   "metadata": {
    "execution": {
     "iopub.execute_input": "2024-05-08T00:09:51.975644Z",
     "iopub.status.busy": "2024-05-08T00:09:51.975322Z",
     "iopub.status.idle": "2024-05-08T00:09:51.986690Z",
     "shell.execute_reply": "2024-05-08T00:09:51.985974Z",
     "shell.execute_reply.started": "2024-05-08T00:09:51.975618Z"
    }
   },
   "outputs": [],
   "source": [
    "movie_title = metadata_df.drop(['adult', 'belongs_to_collection', 'budget', 'genres', 'homepage', 'original_language',  'overview',\n",
    "       'popularity', 'poster_path', 'production_companies',\n",
    "       'production_countries', 'release_date', 'revenue', 'runtime',\n",
    "       'spoken_languages', 'status', 'tagline', 'video','original_title',\n",
    "       'vote_average', 'vote_count'],axis = 1 )\n",
    "\n",
    "ratings_df.rename(columns = {'movieId':'id'},inplace = True)\n"
   ]
  },
  {
   "cell_type": "code",
   "execution_count": 25,
   "metadata": {
    "execution": {
     "iopub.execute_input": "2024-05-08T00:09:51.987964Z",
     "iopub.status.busy": "2024-05-08T00:09:51.987689Z",
     "iopub.status.idle": "2024-05-08T00:09:54.477068Z",
     "shell.execute_reply": "2024-05-08T00:09:54.476153Z",
     "shell.execute_reply.started": "2024-05-08T00:09:51.987943Z"
    }
   },
   "outputs": [
    {
     "data": {
      "text/html": [
       "<div>\n",
       "<style scoped>\n",
       "    .dataframe tbody tr th:only-of-type {\n",
       "        vertical-align: middle;\n",
       "    }\n",
       "\n",
       "    .dataframe tbody tr th {\n",
       "        vertical-align: top;\n",
       "    }\n",
       "\n",
       "    .dataframe thead th {\n",
       "        text-align: right;\n",
       "    }\n",
       "</style>\n",
       "<table border=\"1\" class=\"dataframe\">\n",
       "  <thead>\n",
       "    <tr style=\"text-align: right;\">\n",
       "      <th></th>\n",
       "      <th>userId</th>\n",
       "      <th>id</th>\n",
       "      <th>rating</th>\n",
       "      <th>imdb_id</th>\n",
       "      <th>title</th>\n",
       "    </tr>\n",
       "  </thead>\n",
       "  <tbody>\n",
       "    <tr>\n",
       "      <th>0</th>\n",
       "      <td>1</td>\n",
       "      <td>110</td>\n",
       "      <td>1.0</td>\n",
       "      <td>111495</td>\n",
       "      <td>Three Colors: Red</td>\n",
       "    </tr>\n",
       "    <tr>\n",
       "      <th>1</th>\n",
       "      <td>11</td>\n",
       "      <td>110</td>\n",
       "      <td>3.5</td>\n",
       "      <td>111495</td>\n",
       "      <td>Three Colors: Red</td>\n",
       "    </tr>\n",
       "    <tr>\n",
       "      <th>2</th>\n",
       "      <td>22</td>\n",
       "      <td>110</td>\n",
       "      <td>5.0</td>\n",
       "      <td>111495</td>\n",
       "      <td>Three Colors: Red</td>\n",
       "    </tr>\n",
       "    <tr>\n",
       "      <th>3</th>\n",
       "      <td>24</td>\n",
       "      <td>110</td>\n",
       "      <td>5.0</td>\n",
       "      <td>111495</td>\n",
       "      <td>Three Colors: Red</td>\n",
       "    </tr>\n",
       "    <tr>\n",
       "      <th>4</th>\n",
       "      <td>29</td>\n",
       "      <td>110</td>\n",
       "      <td>3.0</td>\n",
       "      <td>111495</td>\n",
       "      <td>Three Colors: Red</td>\n",
       "    </tr>\n",
       "  </tbody>\n",
       "</table>\n",
       "</div>"
      ],
      "text/plain": [
       "   userId   id  rating imdb_id              title\n",
       "0       1  110     1.0  111495  Three Colors: Red\n",
       "1      11  110     3.5  111495  Three Colors: Red\n",
       "2      22  110     5.0  111495  Three Colors: Red\n",
       "3      24  110     5.0  111495  Three Colors: Red\n",
       "4      29  110     3.0  111495  Three Colors: Red"
      ]
     },
     "execution_count": 25,
     "metadata": {},
     "output_type": "execute_result"
    }
   ],
   "source": [
    "final_df  = pd.merge(ratings_df , movie_title,on = 'id')\n",
    "final_df.head()"
   ]
  },
  {
   "cell_type": "code",
   "execution_count": 26,
   "metadata": {
    "execution": {
     "iopub.execute_input": "2024-05-08T00:09:54.478641Z",
     "iopub.status.busy": "2024-05-08T00:09:54.478240Z",
     "iopub.status.idle": "2024-05-08T00:09:54.483726Z",
     "shell.execute_reply": "2024-05-08T00:09:54.482950Z",
     "shell.execute_reply.started": "2024-05-08T00:09:54.478614Z"
    }
   },
   "outputs": [
    {
     "data": {
      "text/plain": [
       "(11437637, 5)"
      ]
     },
     "execution_count": 26,
     "metadata": {},
     "output_type": "execute_result"
    }
   ],
   "source": [
    "final_df.shape"
   ]
  },
  {
   "cell_type": "code",
   "execution_count": 27,
   "metadata": {
    "execution": {
     "iopub.execute_input": "2024-05-08T00:09:54.485264Z",
     "iopub.status.busy": "2024-05-08T00:09:54.484814Z",
     "iopub.status.idle": "2024-05-08T00:09:54.551218Z",
     "shell.execute_reply": "2024-05-08T00:09:54.550409Z",
     "shell.execute_reply.started": "2024-05-08T00:09:54.485237Z"
    }
   },
   "outputs": [
    {
     "data": {
      "text/plain": [
       "0"
      ]
     },
     "execution_count": 27,
     "metadata": {},
     "output_type": "execute_result"
    }
   ],
   "source": [
    "#Garbage collection\n",
    "gc.collect()"
   ]
  },
  {
   "cell_type": "code",
   "execution_count": 29,
   "metadata": {
    "execution": {
     "iopub.execute_input": "2024-05-08T00:09:59.414563Z",
     "iopub.status.busy": "2024-05-08T00:09:59.414264Z",
     "iopub.status.idle": "2024-05-08T00:10:12.407407Z",
     "shell.execute_reply": "2024-05-08T00:10:12.406537Z",
     "shell.execute_reply.started": "2024-05-08T00:09:59.414538Z"
    }
   },
   "outputs": [],
   "source": [
    "reader = Reader(rating_scale=(1, 5))\n",
    "data = Dataset.load_from_df(final_df[[\"userId\", \"id\", \"rating\"]], reader)\n",
    "sim_options = {\n",
    "    \"name\": \"cosine\",\n",
    "    \"user_based\": False,\n",
    "}\n",
    "algo = KNNWithMeans(sim_options=sim_options)"
   ]
  },
  {
   "cell_type": "code",
   "execution_count": 35,
   "metadata": {
    "execution": {
     "iopub.execute_input": "2024-05-07T22:44:05.981474Z",
     "iopub.status.busy": "2024-05-07T22:44:05.981159Z",
     "iopub.status.idle": "2024-05-07T23:29:50.810137Z",
     "shell.execute_reply": "2024-05-07T23:29:50.809004Z",
     "shell.execute_reply.started": "2024-05-07T22:44:05.981450Z"
    }
   },
   "outputs": [
    {
     "name": "stdout",
     "output_type": "stream",
     "text": [
      "Computing the cosine similarity matrix...\n",
      "Done computing similarity matrix.\n",
      "Computing the cosine similarity matrix...\n",
      "Done computing similarity matrix.\n",
      "Computing the cosine similarity matrix...\n",
      "Done computing similarity matrix.\n",
      "Computing the cosine similarity matrix...\n",
      "Done computing similarity matrix.\n",
      "Computing the cosine similarity matrix...\n",
      "Done computing similarity matrix.\n",
      "Evaluating RMSE of algorithm KNNWithMeans on 5 split(s).\n",
      "\n",
      "                  Fold 1  Fold 2  Fold 3  Fold 4  Fold 5  Mean    Std     \n",
      "RMSE (testset)    0.8620  0.8615  0.8615  0.8632  0.8614  0.8619  0.0007  \n",
      "Fit time          82.33   95.95   92.91   92.49   93.21   91.38   4.68    \n",
      "Test time         414.10  415.43  418.65  412.51  481.94  428.53  26.78   \n"
     ]
    }
   ],
   "source": [
    "#cross-validate KNNWithMeans model\n",
    "cv_results = cross_validate(algo, data, measures=['RMSE'], cv=5, verbose=True)"
   ]
  },
  {
   "cell_type": "code",
   "execution_count": 30,
   "metadata": {
    "execution": {
     "iopub.execute_input": "2024-05-08T00:10:12.408814Z",
     "iopub.status.busy": "2024-05-08T00:10:12.408498Z",
     "iopub.status.idle": "2024-05-08T00:10:12.674548Z",
     "shell.execute_reply": "2024-05-08T00:10:12.673698Z",
     "shell.execute_reply.started": "2024-05-08T00:10:12.408786Z"
    }
   },
   "outputs": [
    {
     "data": {
      "text/plain": [
       "29"
      ]
     },
     "execution_count": 30,
     "metadata": {},
     "output_type": "execute_result"
    }
   ],
   "source": [
    "gc.collect()"
   ]
  },
  {
   "cell_type": "code",
   "execution_count": 41,
   "metadata": {
    "execution": {
     "iopub.execute_input": "2024-05-07T23:48:45.759376Z",
     "iopub.status.busy": "2024-05-07T23:48:45.758997Z",
     "iopub.status.idle": "2024-05-07T23:48:45.765373Z",
     "shell.execute_reply": "2024-05-07T23:48:45.764578Z",
     "shell.execute_reply.started": "2024-05-07T23:48:45.759347Z"
    }
   },
   "outputs": [],
   "source": [
    "#function to get top recommendations for a user\n",
    "def get_top_n_recommendation_movies(user_id, n=10):\n",
    "    all_movie_ids = final_df['id'].unique()\n",
    "    unrated_movies = [movie_id for movie_id in all_movie_ids if movie_id not in final_df[final_df['userId'] == user_id]['id']]\n",
    "    predictions = [algo.predict(user_id, movie_id) for movie_id in unrated_movies]\n",
    "    sorted_predictions = sorted(predictions, key=lambda x: x.est, reverse=True)\n",
    "    top_n_recommendations = [pred.iid for pred in sorted_predictions[:n]]\n",
    "    return top_n_recommendations"
   ]
  },
  {
   "cell_type": "code",
   "execution_count": 42,
   "metadata": {
    "execution": {
     "iopub.execute_input": "2024-05-07T23:48:46.703485Z",
     "iopub.status.busy": "2024-05-07T23:48:46.703095Z",
     "iopub.status.idle": "2024-05-07T23:50:52.088108Z",
     "shell.execute_reply": "2024-05-07T23:50:52.087264Z",
     "shell.execute_reply.started": "2024-05-07T23:48:46.703441Z"
    }
   },
   "outputs": [
    {
     "data": {
      "text/plain": [
       "[82395, 164777, 160329, 137853, 146946, 95578, 172149, 106113, 165739, 149883]"
      ]
     },
     "execution_count": 42,
     "metadata": {},
     "output_type": "execute_result"
    }
   ],
   "source": [
    "get_top_n_recommendation_movies(1)"
   ]
  },
  {
   "cell_type": "code",
   "execution_count": 33,
   "metadata": {
    "execution": {
     "iopub.execute_input": "2024-05-08T00:34:07.648686Z",
     "iopub.status.busy": "2024-05-08T00:34:07.648225Z",
     "iopub.status.idle": "2024-05-08T00:34:09.369161Z",
     "shell.execute_reply": "2024-05-08T00:34:09.368251Z",
     "shell.execute_reply.started": "2024-05-08T00:34:07.648655Z"
    }
   },
   "outputs": [
    {
     "data": {
      "text/plain": [
       "24"
      ]
     },
     "execution_count": 33,
     "metadata": {},
     "output_type": "execute_result"
    }
   ],
   "source": [
    "gc.collect()"
   ]
  },
  {
   "cell_type": "code",
   "execution_count": 32,
   "metadata": {
    "execution": {
     "iopub.execute_input": "2024-05-08T00:10:49.564376Z",
     "iopub.status.busy": "2024-05-08T00:10:49.563395Z",
     "iopub.status.idle": "2024-05-08T00:29:50.013960Z",
     "shell.execute_reply": "2024-05-08T00:29:50.013051Z",
     "shell.execute_reply.started": "2024-05-08T00:10:49.564338Z"
    }
   },
   "outputs": [
    {
     "name": "stdout",
     "output_type": "stream",
     "text": [
      "Evaluating RMSE of algorithm SVD on 5 split(s).\n",
      "\n",
      "                  Fold 1  Fold 2  Fold 3  Fold 4  Fold 5  Mean    Std     \n",
      "RMSE (testset)    0.8347  0.8334  0.8343  0.8356  0.8346  0.8345  0.0007  \n",
      "Fit time          149.49  158.83  159.55  158.45  158.57  156.98  3.76    \n",
      "Test time         40.22   40.76   35.52   40.74   41.58   39.76   2.16    \n"
     ]
    }
   ],
   "source": [
    "#SVD model and cross-validate SVD model\n",
    "algo_2 = SVD(n_factors=100, n_epochs=20)\n",
    "cv_results = cross_validate(algo_2, data, measures=['RMSE'], cv=5, verbose=True)"
   ]
  },
  {
   "cell_type": "code",
   "execution_count": null,
   "metadata": {},
   "outputs": [],
   "source": []
  }
 ],
 "metadata": {
  "kaggle": {
   "accelerator": "tpu1vmV38",
   "dataSources": [
    {
     "datasetId": 3405,
     "sourceId": 6663,
     "sourceType": "datasetVersion"
    },
    {
     "datasetId": 3466375,
     "sourceId": 6057826,
     "sourceType": "datasetVersion"
    }
   ],
   "dockerImageVersionId": 30514,
   "isGpuEnabled": false,
   "isInternetEnabled": true,
   "language": "python",
   "sourceType": "notebook"
  },
  "kernelspec": {
   "display_name": "Python 3 (ipykernel)",
   "language": "python",
   "name": "python3"
  },
  "language_info": {
   "codemirror_mode": {
    "name": "ipython",
    "version": 3
   },
   "file_extension": ".py",
   "mimetype": "text/x-python",
   "name": "python",
   "nbconvert_exporter": "python",
   "pygments_lexer": "ipython3",
   "version": "3.11.9"
  }
 },
 "nbformat": 4,
 "nbformat_minor": 4
}
