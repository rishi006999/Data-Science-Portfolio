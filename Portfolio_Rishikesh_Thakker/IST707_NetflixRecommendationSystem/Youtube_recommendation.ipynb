{
 "cells": [
  {
   "cell_type": "markdown",
   "metadata": {},
   "source": [
    "## Youtube Recommendations using Deep Neural Networks"
   ]
  },
  {
   "cell_type": "markdown",
   "metadata": {},
   "source": [
    "We propose two approaches for movie rating recommendation, leveraging collaborative filtering and deep learning techniques inspired by the methodology described in \"Deep Neural Networks for YouTube Recommendations\". Our models are trained and validated using the MovieLens 100k dataset (ml-100k). We refer to the benchmarks provided by LibRec for public comparisons.\n",
    "\n",
    "[Collaborative filtering](https://en.wikipedia.org/wiki/Collaborative_filtering) and [Deep Neural Networks for YouTube Recommendations](https://static.googleusercontent.com/media/research.google.com/en//pubs/archive/45530.pdf) serve as the basis for our methodologies. Additionally, the [MovieLens 100k dataset](https://grouplens.org/datasets/movielens/100k/) and [LibRec benchmarks](https://www.librec.net/release/v1.3/example.html) offer invaluable resources for training, validation, and benchmarking."
   ]
  },
  {
   "cell_type": "markdown",
   "metadata": {},
   "source": [
    "## Imports"
   ]
  },
  {
   "cell_type": "code",
   "execution_count": 4,
   "metadata": {},
   "outputs": [],
   "source": [
    "%matplotlib inline\n",
    "\n",
    "import pandas as pd\n",
    "import numpy as np\n",
    "import matplotlib.pyplot as plt\n",
    "import random\n",
    "from tqdm import tqdm_notebook\n",
    "from copy import deepcopy\n",
    "\n",
    "import torch\n",
    "import torch.nn as nn\n",
    "import torch.nn.functional as F\n",
    "from torch.utils.data import DataLoader, Dataset\n",
    "device = torch.device(\"cuda:0\" if torch.cuda.is_available() else \"cpu\")\n",
    "\n",
    "data_path = '/Users/kishanterdal/Downloads/Youtube_project//ml-100k/'"
   ]
  },
  {
   "cell_type": "markdown",
   "metadata": {},
   "source": [
    "## Data Processing"
   ]
  },
  {
   "cell_type": "markdown",
   "metadata": {},
   "source": [
    "We have five sets of datasets for both training and validation using the ml-100k dataset. To adhere to Python conventions, we normalize the user and item indices to start from 0. The training set comprises 80,000 tuples of user-item-rating, while the validation set contains 20,000 tuples."
   ]
  },
  {
   "cell_type": "code",
   "execution_count": 5,
   "metadata": {},
   "outputs": [],
   "source": [
    "val_idx = 1  # Index indicating the dataset pair to be used for validation\n",
    "nb_users = 1000  # Total number of users in the dataset\n",
    "nb_items = 1700  # Total number of items in the dataset"
   ]
  },
  {
   "cell_type": "markdown",
   "metadata": {},
   "source": [
    "We load the training and validation datasets from the ml-100k dataset using the specified val_idx. The training dataset (train_df) contains user-item-rating tuples and is structured with columns representing user ID, item ID, rating, and timestamp. To align with Python's zero-based indexing convention, we decrement both user and item IDs by 1. Similarly, the validation dataset (valid_df) is loaded and structured similarly to the training set. After adjusting the indices, we verify the shapes of both datasets to ensure correct loading and preprocessing."
   ]
  },
  {
   "cell_type": "code",
   "execution_count": 6,
   "metadata": {},
   "outputs": [
    {
     "data": {
      "text/plain": [
       "((80000, 4), (20000, 4))"
      ]
     },
     "execution_count": 6,
     "metadata": {},
     "output_type": "execute_result"
    }
   ],
   "source": [
    "train_df = pd.read_csv(f'{data_path}u{val_idx}.base',sep='\\t',header=None)\n",
    "train_df.columns = ['user_id','item_id','rating','ts']\n",
    "train_df['user_id'] = train_df['user_id'] -1 #start index at 0\n",
    "train_df['item_id'] = train_df['item_id'] -1\n",
    "valid_df = pd.read_csv(f'{data_path}u{val_idx}.test',sep='\\t',header=None)\n",
    "valid_df.columns = ['user_id','item_id','rating','ts']\n",
    "valid_df['user_id'] = valid_df['user_id'] -1 #start index at 0\n",
    "valid_df['item_id'] = valid_df['item_id'] -1\n",
    "train_df.shape, valid_df.shape"
   ]
  },
  {
   "cell_type": "markdown",
   "metadata": {},
   "source": [
    "We found that all users are in the training set so we should have no out-of-sample problem with the user embeddings."
   ]
  },
  {
   "cell_type": "markdown",
   "metadata": {},
   "source": [
    "We determine the number of unique users in both the training and test sets. In the training set, there are 943 unique users, while in the test set, there are 459 unique users. Additionally, we iterate through the unique users in the test set and count the number of users that also appear in the training set. The variable i stores the count of users common to both sets."
   ]
  },
  {
   "cell_type": "code",
   "execution_count": 7,
   "metadata": {},
   "outputs": [
    {
     "data": {
      "text/plain": [
       "(943, 459)"
      ]
     },
     "execution_count": 7,
     "metadata": {},
     "output_type": "execute_result"
    }
   ],
   "source": [
    "#check number of unique users in both training and test set\n",
    "train_users = train_df.user_id.unique()\n",
    "valid_users = valid_df.user_id.unique()\n",
    "len(train_users),len(valid_users)"
   ]
  },
  {
   "cell_type": "code",
   "execution_count": 8,
   "metadata": {},
   "outputs": [
    {
     "data": {
      "text/plain": [
       "459"
      ]
     },
     "execution_count": 8,
     "metadata": {},
     "output_type": "execute_result"
    }
   ],
   "source": [
    "i = 0\n",
    "for u in valid_users:\n",
    "    if u in train_users: i+=1\n",
    "i"
   ]
  },
  {
   "cell_type": "markdown",
   "metadata": {},
   "source": [
    "However, we found that out of 1,410 items in the validation set only 1,378 items exist in the training set. This will affect when we predict ratings of those unseen items in the validation set."
   ]
  },
  {
   "cell_type": "code",
   "execution_count": 9,
   "metadata": {},
   "outputs": [
    {
     "data": {
      "text/plain": [
       "(1650, 1410)"
      ]
     },
     "execution_count": 9,
     "metadata": {},
     "output_type": "execute_result"
    }
   ],
   "source": [
    "train_items = train_df.item_id.unique()\n",
    "valid_items = valid_df.item_id.unique()\n",
    "len(train_items),len(valid_items)"
   ]
  },
  {
   "cell_type": "code",
   "execution_count": 10,
   "metadata": {},
   "outputs": [
    {
     "data": {
      "text/plain": [
       "1378"
      ]
     },
     "execution_count": 10,
     "metadata": {},
     "output_type": "execute_result"
    }
   ],
   "source": [
    "i = 0\n",
    "for u in valid_items:\n",
    "    if u in train_items: i+=1\n",
    "i"
   ]
  },
  {
   "cell_type": "markdown",
   "metadata": {},
   "source": [
    "## Dataset"
   ]
  },
  {
   "cell_type": "markdown",
   "metadata": {},
   "source": [
    "We create PyTorch dataset objects to generate tuples of `(user, item, rating)` tensors based on the DataFrame we previously loaded. These datasets allow us to load data in batches by converting them into PyTorch DataLoader objects. In this configuration, we define the batch size as 2000."
   ]
  },
  {
   "cell_type": "code",
   "execution_count": 11,
   "metadata": {},
   "outputs": [],
   "source": [
    "class CollabRatingDataset(Dataset):\n",
    "    def __init__(self, df, user_col=0, item_col=1, rating_col=2):\n",
    "        self.df = df\n",
    "        self.user_tensor = torch.tensor(self.df.iloc[:,user_col], dtype=torch.long, device = device)\n",
    "        self.item_tensor = torch.tensor(self.df.iloc[:,item_col], dtype=torch.long, device = device)\n",
    "        self.target_tensor = torch.tensor(self.df.iloc[:,rating_col], dtype=torch.float32, device = device)\n",
    "        \n",
    "    def __getitem__(self, index):\n",
    "        return(self.user_tensor[index], self.item_tensor[index], self.target_tensor[index])\n",
    "\n",
    "    def __len__(self):\n",
    "        return(self.user_tensor.shape[0])"
   ]
  },
  {
   "cell_type": "code",
   "execution_count": 12,
   "metadata": {},
   "outputs": [],
   "source": [
    "bs = 2000\n",
    "train_ds = CollabRatingDataset(train_df)\n",
    "train_dl = DataLoader(train_ds, batch_size=bs, shuffle=True, num_workers=0)\n",
    "valid_ds = CollabRatingDataset(valid_df)\n",
    "valid_dl = DataLoader(valid_ds, batch_size=bs, shuffle=True, num_workers=0)"
   ]
  },
  {
   "cell_type": "code",
   "execution_count": 13,
   "metadata": {},
   "outputs": [
    {
     "data": {
      "text/plain": [
       "(80000, 20000, 40, 10)"
      ]
     },
     "execution_count": 13,
     "metadata": {},
     "output_type": "execute_result"
    }
   ],
   "source": [
    "len(train_ds),len(valid_ds),len(train_dl),len(valid_dl)"
   ]
  },
  {
   "cell_type": "code",
   "execution_count": 14,
   "metadata": {},
   "outputs": [
    {
     "data": {
      "text/plain": [
       "(tensor([0, 0, 0]), tensor([0, 1, 2]), tensor([5., 3., 4.]))"
      ]
     },
     "execution_count": 14,
     "metadata": {},
     "output_type": "execute_result"
    }
   ],
   "source": [
    "train_ds[:3]"
   ]
  },
  {
   "cell_type": "code",
   "execution_count": 15,
   "metadata": {},
   "outputs": [
    {
     "data": {
      "text/plain": [
       "[tensor([746, 689, 654,  ..., 748,  91, 177]),\n",
       " tensor([415, 375, 506,  ..., 356, 197, 992]),\n",
       " tensor([5., 3., 4.,  ..., 4., 5., 5.])]"
      ]
     },
     "execution_count": 15,
     "metadata": {},
     "output_type": "execute_result"
    }
   ],
   "source": [
    "next(iter(train_dl))"
   ]
  },
  {
   "cell_type": "markdown",
   "metadata": {},
   "source": [
    "## Collaborative Filtering"
   ]
  },
  {
   "cell_type": "markdown",
   "metadata": {},
   "source": [
    "Collaborative filtering is one of the fundamental yet robust recommendation algorithms. Its effectiveness hinges on the notion that users who exhibit similar behaviors, such as purchasing or rating items, are likely to share preferences for other items. This bidirectional relationship between users and items forms the cornerstone of collaborative filtering's predictive power."
   ]
  },
  {
   "cell_type": "markdown",
   "metadata": {},
   "source": [
    "### Architecture"
   ]
  },
  {
   "cell_type": "markdown",
   "metadata": {},
   "source": [
    "The simplest form of collaborative filtering consists of the following elements:\n",
    "\n",
    "1. **Item Embedding Layer** to convert item index to vectors\n",
    "2. **User Embedding Layer** to convert user index to vectors\n",
    "3. **Item Bias** to be added to the dot product\n",
    "4. **User Bias** to be added to the dot product\n",
    "\n",
    "We feed each pair of user and item indice into the layers above the perform the following operations to get the predicted rating:\n",
    "\n",
    "$$rating_{predicted}=\\sum{(E_{item} * E_{user})} + B_{user} + B_{item}$$\n",
    "\n",
    "where $E$ stands for embedding activations and $B$ for biases."
   ]
  },
  {
   "cell_type": "code",
   "execution_count": 16,
   "metadata": {},
   "outputs": [],
   "source": [
    "class CollabNet(nn.Module):\n",
    "    def __init__(self, config):\n",
    "        super(CollabNet, self).__init__()\n",
    "        #hyperparameters\n",
    "        self.config = config\n",
    "        self.nb_users = config['nb_users']\n",
    "        self.nb_items = config['nb_items']\n",
    "        self.emb_sz = config['emb_sz']\n",
    "        self.y_range = config['y_range']\n",
    "\n",
    "        #embeddings\n",
    "        self.emb_user = nn.Embedding(num_embeddings=self.nb_users, embedding_dim=self.emb_sz)\n",
    "        self.user_bias = nn.Embedding(num_embeddings=self.nb_users, embedding_dim=1)\n",
    "        self.emb_item = nn.Embedding(num_embeddings=self.nb_items, embedding_dim=self.emb_sz)\n",
    "        self.item_bias = nn.Embedding(num_embeddings=self.nb_items, embedding_dim=1)\n",
    "        \n",
    "\n",
    "    def forward(self, user_idx, item_idx):\n",
    "        user_emb = self.emb_user(user_idx)\n",
    "        item_emb = self.emb_item(item_idx)\n",
    "        dot = (user_emb * item_emb).sum(1)\n",
    "        x = dot + self.user_bias(user_idx).squeeze() + self.item_bias(item_idx).squeeze()\n",
    "        x = torch.sigmoid(x)\n",
    "        x = x * (self.y_range[1] - self.y_range[0]) + self.y_range[0]\n",
    "        return(x)"
   ]
  },
  {
   "cell_type": "code",
   "execution_count": 17,
   "metadata": {},
   "outputs": [
    {
     "data": {
      "text/plain": [
       "CollabNet(\n",
       "  (emb_user): Embedding(943, 100)\n",
       "  (user_bias): Embedding(943, 1)\n",
       "  (emb_item): Embedding(1682, 100)\n",
       "  (item_bias): Embedding(1682, 1)\n",
       ")"
      ]
     },
     "execution_count": 17,
     "metadata": {},
     "output_type": "execute_result"
    }
   ],
   "source": [
    "config = {\n",
    "    'nb_users':943, #how many unique users\n",
    "    'nb_items':1682, #how many unique items\n",
    "    'emb_sz':100, #size of embedding vector\n",
    "    'y_range': [0.8,5.2]} #range of output\n",
    "model = CollabNet(config)\n",
    "model"
   ]
  },
  {
   "cell_type": "markdown",
   "metadata": {},
   "source": [
    "### Training"
   ]
  },
  {
   "cell_type": "markdown",
   "metadata": {},
   "source": [
    "In this setup, we define the hyperparameters for training a collaborative filtering model. With a batch size of 2000, a learning rate of 5e-2, and weight decay set to 1e-1, we aim to train the model for 100 epochs. To prevent overfitting and improve convergence, we reduce the learning rate if the loss stagnates for more than one epoch and halt training if the validation loss fails to improve for two consecutive epochs. \n",
    "\n",
    "The model architecture, implemented as the `CollabNet` class, utilizes embeddings of size 100 for both users and items. The output rating range is specified as [0.8, 5.2]. Training and validation datasets are loaded using PyTorch DataLoader objects, and the model is optimized using the Adam optimizer with a Mean Squared Error loss function. Additionally, a learning rate scheduler is employed to adjust the learning rate dynamically based on validation loss. This comprehensive setup aims to effectively train a collaborative filtering model for recommendation tasks."
   ]
  },
  {
   "cell_type": "code",
   "execution_count": 18,
   "metadata": {},
   "outputs": [],
   "source": [
    "#hyperparameters\n",
    "bs = 2000 #batch size\n",
    "lr = 5e-2 #learning rate\n",
    "wd = 1e-1 #weight decay parameter\n",
    "nb_epoch = 100 #how many epochs to train\n",
    "reduce_lr = 1 #reduce learning rate if loss stagnates more than x epochs\n",
    "early_stop = 2 #stop if validation loss doesnt improve for x epochs\n",
    "\n",
    "config = {\n",
    "    'nb_users':943, #how many unique users\n",
    "    'nb_items':1682, #how many unique items\n",
    "    'emb_sz':100, #size of embedding vector\n",
    "    'y_range': [0.8,5.2]} #range of output\n",
    "\n",
    "#recording\n",
    "lrs = []\n",
    "train_losses=[]\n",
    "valid_losses = []\n",
    "best_loss = np.inf\n",
    "best_weights = None\n",
    "\n",
    "#datasets/loaders\n",
    "train_ds = CollabRatingDataset(train_df)\n",
    "train_dl = DataLoader(train_ds, batch_size=bs, shuffle=True, num_workers=0)\n",
    "valid_ds = CollabRatingDataset(valid_df)\n",
    "valid_dl = DataLoader(valid_ds, batch_size=bs, shuffle=True, num_workers=0)\n",
    "\n",
    "#model\n",
    "model = CollabNet(config)\n",
    "crit = nn.MSELoss(reduction='sum')\n",
    "optim = torch.optim.Adam(model.parameters(), lr=lr, betas=(0.9,0.999), weight_decay=wd)\n",
    "scheduler = torch.optim.lr_scheduler.ReduceLROnPlateau(optim, mode='min',factor=0.5, threshold=1e-2,\n",
    "                                                       patience=reduce_lr, min_lr=lr/10)"
   ]
  },
  {
   "cell_type": "markdown",
   "metadata": {},
   "source": [
    "In this training loop, we iterate over the specified number of epochs, conducting both training and validation phases. During training, predictions are made using the model for each batch of user-item-rating tuples in the training data loader. The Mean Squared Error loss is calculated between the predicted ratings and the ground truth ratings, and backpropagation updates the model parameters. We record the learning rate and training loss.\n",
    "\n",
    "The model switches to evaluation mode for validation, where predictions are made for validation data, and the validation loss is computed. If the validation loss improves, the model weights are updated and recorded as the best model. Early stopping is implemented if the validation loss fails to improve for a specified number of epochs. Finally, the learning rate scheduler is adjusted based on the validation loss. This training process aims to optimize the collaborative filtering model for accurate rating predictions."
   ]
  },
  {
   "cell_type": "code",
   "execution_count": 19,
   "metadata": {},
   "outputs": [
    {
     "name": "stderr",
     "output_type": "stream",
     "text": [
      "/var/folders/2d/m0qd4v854cx_54f5rs6b_6x40000gn/T/ipykernel_17394/1640937583.py:2: TqdmDeprecationWarning: This function will be removed in tqdm==5.0.0\n",
      "Please use `tqdm.notebook.tqdm` instead of `tqdm.tqdm_notebook`\n",
      "  for e in tqdm_notebook(range(nb_epoch)):\n"
     ]
    },
    {
     "data": {
      "application/vnd.jupyter.widget-view+json": {
       "model_id": "40457f7cb3874b32a3be4720f6c3c7c3",
       "version_major": 2,
       "version_minor": 0
      },
      "text/plain": [
       "  0%|          | 0/100 [00:00<?, ?it/s]"
      ]
     },
     "metadata": {},
     "output_type": "display_data"
    },
    {
     "name": "stdout",
     "output_type": "stream",
     "text": [
      "Epoch 0 Train loss: 5.243720068359375; Valid loss: 4.829090673828125; Learning rate: 0.05\n",
      "Epoch 1 Train loss: 3.861954620361328; Valid loss: 3.889978076171875; Learning rate: 0.05\n",
      "Epoch 2 Train loss: 2.881161474609375; Valid loss: 3.0979444091796875; Learning rate: 0.05\n",
      "Epoch 3 Train loss: 2.2326887878417967; Valid loss: 2.61014833984375; Learning rate: 0.05\n",
      "Epoch 4 Train loss: 1.7366752593994141; Valid loss: 2.1687848876953124; Learning rate: 0.05\n",
      "Epoch 5 Train loss: 1.2109778610229491; Valid loss: 1.6706124877929687; Learning rate: 0.05\n",
      "Epoch 6 Train loss: 0.7057580001831054; Valid loss: 1.27688056640625; Learning rate: 0.05\n",
      "Epoch 7 Train loss: 0.390791268157959; Valid loss: 1.105339697265625; Learning rate: 0.05\n",
      "Epoch 8 Train loss: 0.24505182876586915; Valid loss: 1.049028076171875; Learning rate: 0.05\n",
      "Epoch 9 Train loss: 0.18253310127258301; Valid loss: 1.0269858459472656; Learning rate: 0.05\n",
      "Epoch 10 Train loss: 0.15344654998779297; Valid loss: 1.020720361328125; Learning rate: 0.05\n",
      "Epoch 11 Train loss: 0.14403175010681152; Valid loss: 1.0164880310058593; Learning rate: 0.05\n",
      "Epoch 12 Train loss: 0.14270138454437256; Valid loss: 1.0141015991210938; Learning rate: 0.05\n",
      "Epoch 13 Train loss: 0.1452413387298584; Valid loss: 1.0036743713378906; Learning rate: 0.05\n",
      "Epoch 14 Train loss: 0.14902723064422607; Valid loss: 1.0108472778320312; Learning rate: 0.05\n",
      "Epoch 15 Train loss: 0.15736516571044923; Valid loss: 1.005643829345703; Learning rate: 0.05\n",
      "early stopping after epoch 15\n"
     ]
    }
   ],
   "source": [
    "#training\n",
    "for e in tqdm_notebook(range(nb_epoch)): \n",
    "    #train\n",
    "    model.train()\n",
    "    train_loss = 0\n",
    "    for u,i,r in train_dl:\n",
    "        #prediction\n",
    "        r_pred = model(u,i)\n",
    "        r = r.squeeze()\n",
    "        \n",
    "        #loss\n",
    "        loss = crit(r_pred,r)\n",
    "        \n",
    "        #backprop\n",
    "        optim.zero_grad()\n",
    "        loss.backward()\n",
    "        optim.step()\n",
    "        train_loss+= loss.detach().item()\n",
    "    #record\n",
    "    current_lr = scheduler.optimizer.param_groups[0]['lr']\n",
    "    lrs.append(current_lr)\n",
    "    train_loss /= len(train_ds)\n",
    "    train_losses.append(train_loss)\n",
    "    \n",
    "    #valid\n",
    "    model.eval()\n",
    "    valid_loss = 0\n",
    "    for u,i,r in valid_dl:\n",
    "        r_pred = model(u,i)\n",
    "        r = r.squeeze()\n",
    "        loss = crit(r_pred,r)\n",
    "        valid_loss+=loss.detach().item()\n",
    "    valid_loss/=len(valid_ds)\n",
    "    #record\n",
    "    valid_losses.append(valid_loss)\n",
    "    print(f'Epoch {e} Train loss: {train_loss}; Valid loss: {valid_loss}; Learning rate: {current_lr}')\n",
    "\n",
    "    #choose best model\n",
    "    if valid_loss < best_loss:\n",
    "        best_loss = valid_loss\n",
    "        best_weights = deepcopy(model.state_dict())\n",
    "        no_improvements = 0\n",
    "    else:\n",
    "        no_improvements += 1\n",
    "\n",
    "    #early stopping\n",
    "    if no_improvements >= early_stop:\n",
    "        print(f'early stopping after epoch {e}')\n",
    "        break\n",
    "    \n",
    "    #step scheduler\n",
    "    scheduler.step(valid_loss)"
   ]
  },
  {
   "cell_type": "code",
   "execution_count": 20,
   "metadata": {},
   "outputs": [
    {
     "data": {
      "text/plain": [
       "[<matplotlib.lines.Line2D at 0x16c470850>]"
      ]
     },
     "execution_count": 20,
     "metadata": {},
     "output_type": "execute_result"
    },
    {
     "data": {
      "image/png": "[encoded data removed]",
      "text/plain": [
       "<Figure size 640x480 with 1 Axes>"
      ]
     },
     "metadata": {},
     "output_type": "display_data"
    }
   ],
   "source": [
    "plt.plot(train_losses)\n",
    "plt.plot(valid_losses)"
   ]
  },
  {
   "cell_type": "code",
   "execution_count": 21,
   "metadata": {},
   "outputs": [
    {
     "data": {
      "text/plain": [
       "[<matplotlib.lines.Line2D at 0x16c4e7f90>]"
      ]
     },
     "execution_count": 21,
     "metadata": {},
     "output_type": "execute_result"
    },
    {
     "data": {
      "image/png": "[encoded data removed]",
      "text/plain": [
       "<Figure size 640x480 with 1 Axes>"
      ]
     },
     "metadata": {},
     "output_type": "display_data"
    }
   ],
   "source": [
    "plt.plot(lrs)"
   ]
  },
  {
   "cell_type": "markdown",
   "metadata": {},
   "source": [
    "The RMSE value of 0.986 suggests that, on average, the model's predictions are approximately 0.986 units away from the true ratings observed in the dataset"
   ]
  },
  {
   "cell_type": "code",
   "execution_count": 22,
   "metadata": {},
   "outputs": [
    {
     "name": "stdout",
     "output_type": "stream",
     "text": [
      "Best RMSE: 1.001835501136734\n"
     ]
    }
   ],
   "source": [
    "print(f'Best RMSE: {np.sqrt(best_loss)}')"
   ]
  },
  {
   "cell_type": "markdown",
   "metadata": {},
   "source": [
    "### Item Embeddings"
   ]
  },
  {
   "cell_type": "markdown",
   "metadata": {},
   "source": [
    "The useful thing about having item bias is that we can use it to rank our items, in this case, movies. Movies with more positive bias values are considered to be the \"better\" ones."
   ]
  },
  {
   "cell_type": "code",
   "execution_count": 23,
   "metadata": {},
   "outputs": [
    {
     "data": {
      "text/html": [
       "<div>\n",
       "<style scoped>\n",
       "    .dataframe tbody tr th:only-of-type {\n",
       "        vertical-align: middle;\n",
       "    }\n",
       "\n",
       "    .dataframe tbody tr th {\n",
       "        vertical-align: top;\n",
       "    }\n",
       "\n",
       "    .dataframe thead th {\n",
       "        text-align: right;\n",
       "    }\n",
       "</style>\n",
       "<table border=\"1\" class=\"dataframe\">\n",
       "  <thead>\n",
       "    <tr style=\"text-align: right;\">\n",
       "      <th></th>\n",
       "      <th>item_id</th>\n",
       "      <th>title</th>\n",
       "    </tr>\n",
       "  </thead>\n",
       "  <tbody>\n",
       "    <tr>\n",
       "      <th>0</th>\n",
       "      <td>0</td>\n",
       "      <td>Toy Story (1995)</td>\n",
       "    </tr>\n",
       "    <tr>\n",
       "      <th>1</th>\n",
       "      <td>1</td>\n",
       "      <td>GoldenEye (1995)</td>\n",
       "    </tr>\n",
       "    <tr>\n",
       "      <th>2</th>\n",
       "      <td>2</td>\n",
       "      <td>Four Rooms (1995)</td>\n",
       "    </tr>\n",
       "    <tr>\n",
       "      <th>3</th>\n",
       "      <td>3</td>\n",
       "      <td>Get Shorty (1995)</td>\n",
       "    </tr>\n",
       "    <tr>\n",
       "      <th>4</th>\n",
       "      <td>4</td>\n",
       "      <td>Copycat (1995)</td>\n",
       "    </tr>\n",
       "  </tbody>\n",
       "</table>\n",
       "</div>"
      ],
      "text/plain": [
       "   item_id              title\n",
       "0        0   Toy Story (1995)\n",
       "1        1   GoldenEye (1995)\n",
       "2        2  Four Rooms (1995)\n",
       "3        3  Get Shorty (1995)\n",
       "4        4     Copycat (1995)"
      ]
     },
     "execution_count": 23,
     "metadata": {},
     "output_type": "execute_result"
    }
   ],
   "source": [
    "item_df = pd.read_csv(f'{data_path}u.item', delimiter='|', encoding='latin-1', header=None,\n",
    "                    names=['item_id', 'title', 'date', 'N', 'url', *[f'g{i}' for i in range(19)]])\n",
    "item_df = item_df[['item_id','title']].copy()\n",
    "item_df['item_id'] = item_df.item_id.map(lambda x: int(x)-1)\n",
    "item_df.head()"
   ]
  },
  {
   "cell_type": "code",
   "execution_count": 24,
   "metadata": {},
   "outputs": [],
   "source": [
    "movie_ranking = []\n",
    "for item_id in model.item_bias.weight.data.squeeze().argsort().cpu().numpy():\n",
    "    movie_ranking.append((item_df.iloc[item_id,1],model.item_bias.weight.data[item_id].item()))"
   ]
  },
  {
   "cell_type": "code",
   "execution_count": 25,
   "metadata": {},
   "outputs": [
    {
     "data": {
      "text/plain": [
       "[(\"Schindler's List (1993)\", 1.4476537704467773),\n",
       " ('Shawshank Redemption, The (1994)', 1.3492515087127686),\n",
       " ('Star Wars (1977)', 1.3079438209533691),\n",
       " ('Titanic (1997)', 1.263956904411316),\n",
       " ('Usual Suspects, The (1995)', 1.2513372898101807),\n",
       " (\"One Flew Over the Cuckoo's Nest (1975)\", 1.2434642314910889),\n",
       " ('Wrong Trousers, The (1993)', 1.2383378744125366),\n",
       " ('Boot, Das (1981)', 1.2288824319839478),\n",
       " ('Casablanca (1942)', 1.2030034065246582),\n",
       " ('Close Shave, A (1995)', 1.1935752630233765)]"
      ]
     },
     "execution_count": 25,
     "metadata": {},
     "output_type": "execute_result"
    }
   ],
   "source": [
    "#best rated movies\n",
    "movie_ranking[::-1][:10]"
   ]
  },
  {
   "cell_type": "code",
   "execution_count": 26,
   "metadata": {},
   "outputs": [
    {
     "data": {
      "text/plain": [
       "[('Children of the Corn: The Gathering (1996)', -1.1319795846939087),\n",
       " (\"McHale's Navy (1997)\", -1.0469459295272827),\n",
       " ('Spice World (1997)', -0.9114508628845215),\n",
       " ('Bio-Dome (1996)', -0.910628080368042),\n",
       " ('Crow: City of Angels, The (1996)', -0.8961988687515259),\n",
       " ('Island of Dr. Moreau, The (1996)', -0.8953641653060913),\n",
       " ('Free Willy 3: The Rescue (1997)', -0.8816326856613159),\n",
       " ('Lawnmower Man 2: Beyond Cyberspace (1996)', -0.8556405305862427),\n",
       " ('Beverly Hills Cop III (1994)', -0.8499413728713989),\n",
       " ('Mr. Wrong (1996)', -0.8384333848953247)]"
      ]
     },
     "execution_count": 26,
     "metadata": {},
     "output_type": "execute_result"
    }
   ],
   "source": [
    "#worst rated movies\n",
    "movie_ranking[:10]"
   ]
  },
  {
   "cell_type": "markdown",
   "metadata": {},
   "source": [
    "## Deep Learning"
   ]
  },
  {
   "cell_type": "markdown",
   "metadata": {},
   "source": [
    "### Architecture"
   ]
  },
  {
   "cell_type": "markdown",
   "metadata": {},
   "source": [
    "The architecture as described in [Deep Neural Networks for YouTube Recommendations](https://static.googleusercontent.com/media/research.google.com/en//pubs/archive/45530.pdf) consists of two parts:\n",
    "1. **Embedding Layers** to convert user and item indice to embedding vectors\n",
    "2. **Fully-connected Layers** to take input of concatenated embedding vectors and output the rating"
   ]
  },
  {
   "cell_type": "markdown",
   "metadata": {},
   "source": [
    "The `ConcatNet` class is a PyTorch neural network module designed for collaborative filtering tasks. It incorporates user and item embeddings, each followed by a dropout layer for regularization. These embeddings are concatenated and passed through fully connected layers with ReLU activation, batch normalization, and dropout. \n",
    "\n",
    "Finally, a linear layer produces the output ratings, which are scaled to the specified rating range using a sigmoid activation function. This architecture efficiently learns to predict user-item ratings, making it suitable for recommendation systems."
   ]
  },
  {
   "cell_type": "code",
   "execution_count": 27,
   "metadata": {},
   "outputs": [],
   "source": [
    "class ConcatNet(nn.Module):\n",
    "    def __init__(self, config):\n",
    "        super(ConcatNet, self).__init__()\n",
    "        #hyperparameters\n",
    "        self.config = config\n",
    "        self.nb_users = config['nb_users']\n",
    "        self.nb_items = config['nb_items']\n",
    "        self.emb_sz = config['emb_sz']\n",
    "        self.emb_p = config['emb_p']\n",
    "        self.fc_sz = config['fc_sz']\n",
    "        self.ps = config['ps']\n",
    "        self.y_range = config['y_range']\n",
    "\n",
    "        #embeddings\n",
    "        self.emb_user = nn.Sequential(\n",
    "            nn.Embedding(num_embeddings=self.nb_users, embedding_dim=self.emb_sz),\n",
    "            nn.Dropout(p=self.emb_p))\n",
    "        self.emb_item = nn.Sequential(\n",
    "            nn.Embedding(num_embeddings=self.nb_items, embedding_dim=self.emb_sz),\n",
    "            nn.Dropout(p=self.emb_p))\n",
    "\n",
    "        #fully-connected layers\n",
    "        fc_layers_list = []\n",
    "        for ni,nf,p in zip(self.fc_sz[:-1], self.fc_sz[1:], self.ps):\n",
    "            fc_layers_list.append(nn.Linear(ni, nf))\n",
    "            fc_layers_list.append(nn.ReLU(inplace=True))\n",
    "            fc_layers_list.append(nn.BatchNorm1d(nf))\n",
    "            fc_layers_list.append(nn.Dropout(p=p))\n",
    "        self.fc_layers = nn.Sequential(*fc_layers_list)\n",
    "\n",
    "        #output head\n",
    "        self.head = torch.nn.Linear(in_features=self.fc_sz[-1], out_features=1)\n",
    "\n",
    "    def forward(self, user_idx, item_idx):\n",
    "        user_emb = self.emb_user(user_idx)\n",
    "        item_emb = self.emb_item(item_idx)\n",
    "        x = torch.cat([user_emb, item_emb], dim=1)\n",
    "        x = self.fc_layers(x)\n",
    "        x = torch.sigmoid(self.head(x))\n",
    "        x = x * (self.y_range[1] - self.y_range[0]) + self.y_range[0]\n",
    "        return(x)"
   ]
  },
  {
   "cell_type": "code",
   "execution_count": 28,
   "metadata": {},
   "outputs": [
    {
     "data": {
      "text/plain": [
       "ConcatNet(\n",
       "  (emb_user): Sequential(\n",
       "    (0): Embedding(943, 50)\n",
       "    (1): Dropout(p=0.05, inplace=False)\n",
       "  )\n",
       "  (emb_item): Sequential(\n",
       "    (0): Embedding(1682, 50)\n",
       "    (1): Dropout(p=0.05, inplace=False)\n",
       "  )\n",
       "  (fc_layers): Sequential(\n",
       "    (0): Linear(in_features=100, out_features=512, bias=True)\n",
       "    (1): ReLU(inplace=True)\n",
       "    (2): BatchNorm1d(512, eps=1e-05, momentum=0.1, affine=True, track_running_stats=True)\n",
       "    (3): Dropout(p=0.7, inplace=False)\n",
       "    (4): Linear(in_features=512, out_features=256, bias=True)\n",
       "    (5): ReLU(inplace=True)\n",
       "    (6): BatchNorm1d(256, eps=1e-05, momentum=0.1, affine=True, track_running_stats=True)\n",
       "    (7): Dropout(p=0.35, inplace=False)\n",
       "  )\n",
       "  (head): Linear(in_features=256, out_features=1, bias=True)\n",
       ")"
      ]
     },
     "execution_count": 28,
     "metadata": {},
     "output_type": "execute_result"
    }
   ],
   "source": [
    "config = {\n",
    "    'nb_users':943, #how many unique users\n",
    "    'nb_items':1682, #how many unique items\n",
    "    'emb_sz':50, #size of embedding vector\n",
    "    'emb_p': 0.05, #dropout for embedding\n",
    "    'fc_sz': [100, 512, 256], #size of fully-connected layers\n",
    "    'ps': [0.7,0.35], #dropout for fully-connected layers\n",
    "    'y_range': [0.8,5.2]} #range of output\n",
    "model = ConcatNet(config)\n",
    "model"
   ]
  },
  {
   "cell_type": "markdown",
   "metadata": {},
   "source": [
    "### Training"
   ]
  },
  {
   "cell_type": "code",
   "execution_count": 29,
   "metadata": {},
   "outputs": [],
   "source": [
    "#hyperparameters\n",
    "bs = 2000 #batch size\n",
    "lr = 1e-2 #learning rate\n",
    "wd = 5e-1 #weight decay parameter\n",
    "nb_epoch = 100 #how many epochs to train\n",
    "reduce_lr = 1 #reduce learning rate if loss stagnates more than x epochs\n",
    "early_stop = 2 #stop if validation loss doesnt improve for x epochs\n",
    "\n",
    "config = {\n",
    "    'nb_users':943, #how many unique users\n",
    "    'nb_items':1682, #how many unique items\n",
    "    'emb_sz':50, #size of embedding vector\n",
    "    'emb_p': 0.05, #dropout for embedding\n",
    "    'fc_sz': [100, 512, 256], #size of fully-connected layers\n",
    "    'ps': [0.7,0.35], #dropout for fully-connected layers\n",
    "    'y_range': [0.8,5.2]} #range of output\n",
    "\n",
    "#recording\n",
    "lrs = []\n",
    "train_losses=[]\n",
    "valid_losses = []\n",
    "best_loss = np.inf\n",
    "best_weights = None\n",
    "\n",
    "#datasets/loaders\n",
    "train_ds = CollabRatingDataset(train_df)\n",
    "train_dl = DataLoader(train_ds, batch_size=bs, shuffle=True, num_workers=0)\n",
    "valid_ds = CollabRatingDataset(valid_df)\n",
    "valid_dl = DataLoader(valid_ds, batch_size=bs, shuffle=True, num_workers=0)\n",
    "\n",
    "#model\n",
    "model = ConcatNet(config)\n",
    "crit = nn.MSELoss(reduction='sum')\n",
    "optim = torch.optim.Adam(model.parameters(), lr=lr, betas=(0.9,0.999), weight_decay=wd)\n",
    "scheduler = torch.optim.lr_scheduler.ReduceLROnPlateau(optim, mode='min',factor=0.5, threshold=1e-3,\n",
    "                                                       patience=reduce_lr, min_lr=lr/10)"
   ]
  },
  {
   "cell_type": "code",
   "execution_count": 30,
   "metadata": {},
   "outputs": [
    {
     "name": "stderr",
     "output_type": "stream",
     "text": [
      "/var/folders/2d/m0qd4v854cx_54f5rs6b_6x40000gn/T/ipykernel_17394/512315390.py:2: TqdmDeprecationWarning: This function will be removed in tqdm==5.0.0\n",
      "Please use `tqdm.notebook.tqdm` instead of `tqdm.tqdm_notebook`\n",
      "  for e in tqdm_notebook(range(nb_epoch)):\n"
     ]
    },
    {
     "data": {
      "application/vnd.jupyter.widget-view+json": {
       "model_id": "378c65dfd478474c940c33ea659ff2b1",
       "version_major": 2,
       "version_minor": 0
      },
      "text/plain": [
       "  0%|          | 0/100 [00:00<?, ?it/s]"
      ]
     },
     "metadata": {},
     "output_type": "display_data"
    },
    {
     "name": "stdout",
     "output_type": "stream",
     "text": [
      "Epoch 0 Train loss: 1.3846493499755859; Valid loss: 1.1924885986328124; Learning rate: 0.01\n",
      "Epoch 1 Train loss: 1.095883415222168; Valid loss: 1.0633095581054688; Learning rate: 0.01\n",
      "Epoch 2 Train loss: 0.9835846069335937; Valid loss: 1.0066170043945313; Learning rate: 0.01\n",
      "Epoch 3 Train loss: 0.924213719177246; Valid loss: 0.9398716430664062; Learning rate: 0.01\n",
      "Epoch 4 Train loss: 0.8986999267578125; Valid loss: 0.9267517944335938; Learning rate: 0.01\n",
      "Epoch 5 Train loss: 0.883645263671875; Valid loss: 0.9148307983398437; Learning rate: 0.01\n",
      "Epoch 6 Train loss: 0.8691433044433594; Valid loss: 0.9210965393066406; Learning rate: 0.01\n",
      "Epoch 7 Train loss: 0.8637437591552735; Valid loss: 0.9047157531738281; Learning rate: 0.01\n",
      "Epoch 8 Train loss: 0.8544883163452148; Valid loss: 0.9010224243164062; Learning rate: 0.01\n",
      "Epoch 9 Train loss: 0.8471682601928711; Valid loss: 0.8928507629394531; Learning rate: 0.01\n",
      "Epoch 10 Train loss: 0.8344650238037109; Valid loss: 0.885493310546875; Learning rate: 0.01\n",
      "Epoch 11 Train loss: 0.8235327926635743; Valid loss: 0.8791093994140625; Learning rate: 0.01\n",
      "Epoch 12 Train loss: 0.8171135299682617; Valid loss: 0.8725978942871093; Learning rate: 0.01\n",
      "Epoch 13 Train loss: 0.810977279663086; Valid loss: 0.8819720642089843; Learning rate: 0.01\n",
      "Epoch 14 Train loss: 0.809602214050293; Valid loss: 0.8802667541503906; Learning rate: 0.01\n",
      "early stopping after epoch 14\n"
     ]
    }
   ],
   "source": [
    "#training\n",
    "for e in tqdm_notebook(range(nb_epoch)): \n",
    "    #train\n",
    "    model.train()\n",
    "    train_loss = 0\n",
    "    for u,i,r in train_dl:\n",
    "        #prediction\n",
    "        r_pred = model(u,i)\n",
    "        r = r[:,None]\n",
    "        \n",
    "        #loss\n",
    "        loss = crit(r_pred,r)\n",
    "        \n",
    "        #backprop\n",
    "        optim.zero_grad()\n",
    "        loss.backward()\n",
    "        optim.step()\n",
    "        train_loss+= loss.detach().item()\n",
    "    #record\n",
    "    current_lr = scheduler.optimizer.param_groups[0]['lr']\n",
    "    lrs.append(current_lr)\n",
    "    train_loss /= len(train_ds)\n",
    "    train_losses.append(train_loss)\n",
    "    \n",
    "    #valid\n",
    "    model.eval()\n",
    "    valid_loss = 0\n",
    "    for u,i,r in valid_dl:\n",
    "        r_pred = model(u,i)\n",
    "        r = r[:,None]\n",
    "        loss = crit(r_pred,r)\n",
    "        valid_loss+=loss.detach().item()\n",
    "    valid_loss/=len(valid_ds)\n",
    "    #record\n",
    "    valid_losses.append(valid_loss)\n",
    "    print(f'Epoch {e} Train loss: {train_loss}; Valid loss: {valid_loss}; Learning rate: {current_lr}')\n",
    "\n",
    "    #choose best model\n",
    "    if valid_loss < best_loss:\n",
    "        best_loss = valid_loss\n",
    "        best_weights = deepcopy(model.state_dict())\n",
    "        no_improvements = 0\n",
    "    else:\n",
    "        no_improvements += 1\n",
    "\n",
    "    #early stopping\n",
    "    if no_improvements >= early_stop:\n",
    "        print(f'early stopping after epoch {e}')\n",
    "        break\n",
    "    \n",
    "    #step scheduler\n",
    "    scheduler.step(valid_loss)"
   ]
  },
  {
   "cell_type": "code",
   "execution_count": 31,
   "metadata": {},
   "outputs": [
    {
     "data": {
      "text/plain": [
       "[<matplotlib.lines.Line2D at 0x16c791e10>]"
      ]
     },
     "execution_count": 31,
     "metadata": {},
     "output_type": "execute_result"
    },
    {
     "data": {
      "image/png": "[encoded data removed]",
      "text/plain": [
       "<Figure size 640x480 with 1 Axes>"
      ]
     },
     "metadata": {},
     "output_type": "display_data"
    }
   ],
   "source": [
    "plt.plot(train_losses)\n",
    "plt.plot(valid_losses)"
   ]
  },
  {
   "cell_type": "code",
   "execution_count": 32,
   "metadata": {},
   "outputs": [
    {
     "data": {
      "text/plain": [
       "[<matplotlib.lines.Line2D at 0x16c60d1d0>]"
      ]
     },
     "execution_count": 32,
     "metadata": {},
     "output_type": "execute_result"
    },
    {
     "data": {
      "image/png": "[encoded data removed]",
      "text/plain": [
       "<Figure size 640x480 with 1 Axes>"
      ]
     },
     "metadata": {},
     "output_type": "display_data"
    }
   ],
   "source": [
    "plt.plot(lrs)"
   ]
  },
  {
   "cell_type": "markdown",
   "metadata": {},
   "source": [
    " \"Best RMSE: 0.9346088035764784\" indicates that the Root Mean Square Error (RMSE) achieved by the Deep Learning model is approximately 0.935. This implies that, on average, the predictions made by the Deep Learning model are about 0.935 units away from the actual ratings in the dataset."
   ]
  },
  {
   "cell_type": "code",
   "execution_count": 33,
   "metadata": {},
   "outputs": [
    {
     "name": "stdout",
     "output_type": "stream",
     "text": [
      "Best RMSE: 0.9341294847541798\n"
     ]
    }
   ],
   "source": [
    "print(f'Best RMSE: {np.sqrt(best_loss)}')"
   ]
  },
  {
   "cell_type": "code",
   "execution_count": 42,
   "metadata": {},
   "outputs": [
    {
     "name": "stdout",
     "output_type": "stream",
     "text": [
      "User IDs: [  0   1   2   3   4   5   6   7   8   9  10  11  12  13  14  15  16  17\n",
      "  18  19  20  21  22  23  24  25  26  27  28  29  30  31  32  33  34  35\n",
      "  36  37  38  39  40  41  42  43  44  45  46  47  48  49  50  51  52  53\n",
      "  54  55  56  57  58  59  60  61  62  63  64  65  66  67  68  69  70  71\n",
      "  72  73  74  75  76  77  78  79  80  81  82  83  84  85  86  87  88  89\n",
      "  90  91  92  93  94  95  96  97  98  99 100 101 102 103 104 105 106 107\n",
      " 108 109 110 111 112 113 114 115 116 117 118 119 120 121 122 123 124 125\n",
      " 126 127 128 129 130 131 132 133 134 135 136 137 138 139 140 141 142 143\n",
      " 144 145 146 147 148 149 150 151 152 153 154 155 156 157 158 159 160 161\n",
      " 162 163 164 165 166 167 168 169 170 171 172 173 174 175 176 177 178 179\n",
      " 180 181 182 183 184 185 186 187 188 189 190 191 192 193 194 195 196 197\n",
      " 198 199 200 201 202 203 204 205 206 207 208 209 210 211 212 213 214 215\n",
      " 216 217 218 219 220 221 222 223 224 225 226 227 228 229 230 231 232 233\n",
      " 234 235 236 237 238 239 240 241 242 243 244 245 246 247 248 249 250 251\n",
      " 252 253 254 255 256 257 258 259 260 261 262 263 264 265 266 267 268 269\n",
      " 270 271 272 273 274 275 276 277 278 279 280 281 282 283 284 285 286 287\n",
      " 288 289 290 291 292 293 294 295 296 297 298 299 300 301 302 303 304 305\n",
      " 306 307 308 309 310 311 312 313 314 315 316 317 318 319 320 321 322 323\n",
      " 324 325 326 327 328 329 330 331 332 333 334 335 336 337 338 339 340 341\n",
      " 342 343 344 345 346 347 348 349 350 351 352 353 354 355 356 357 358 359\n",
      " 360 361 362 363 364 365 366 367 368 369 370 371 372 373 374 375 376 377\n",
      " 378 379 380 381 382 383 384 385 386 387 388 389 390 391 392 393 394 395\n",
      " 396 397 398 399 400 401 402 403 404 405 406 407 408 409 410 411 412 413\n",
      " 414 415 416 417 418 419 420 421 422 423 424 425 426 427 428 429 430 431\n",
      " 432 433 434 435 436 437 438 439 440 441 442 443 444 445 446 447 448 449\n",
      " 450 451 452 453 454 455 456 457 458 459 460 461 462 463 464 465 466 467\n",
      " 468 469 470 471 472 473 474 475 476 477 478 479 480 481 482 483 484 485\n",
      " 486 487 488 489 490 491 492 493 494 495 496 497 498 499 500 501 502 503\n",
      " 504 505 506 507 508 509 510 511 512 513 514 515 516 517 518 519 520 521\n",
      " 522 523 524 525 526 527 528 529 530 531 532 533 534 535 536 537 538 539\n",
      " 540 541 542 543 544 545 546 547 548 549 550 551 552 553 554 555 556 557\n",
      " 558 559 560 561 562 563 564 565 566 567 568 569 570 571 572 573 574 575\n",
      " 576 577 578 579 580 581 582 583 584 585 586 587 588 589 590 591 592 593\n",
      " 594 595 596 597 598 599 600 601 602 603 604 605 606 607 608 609 610 611\n",
      " 612 613 614 615 616 617 618 619 620 621 622 623 624 625 626 627 628 629\n",
      " 630 631 632 633 634 635 636 637 638 639 640 641 642 643 644 645 646 647\n",
      " 648 649 650 651 652 653 654 655 656 657 658 659 660 661 662 663 664 665\n",
      " 666 667 668 669 670 671 672 673 674 675 676 677 678 679 680 681 682 683\n",
      " 684 685 686 687 688 689 690 691 692 693 694 695 696 697 698 699 700 701\n",
      " 702 703 704 705 706 707 708 709 710 711 712 713 714 715 716 717 718 719\n",
      " 720 721 722 723 724 725 726 727 728 729 730 731 732 733 734 735 736 737\n",
      " 738 739 740 741 742 743 744 745 746 747 748 749 750 751 752 753 754 755\n",
      " 756 757 758 759 760 761 762 763 764 765 766 767 768 769 770 771 772 773\n",
      " 774 775 776 777 778 779 780 781 782 783 784 785 786 787 788 789 790 791\n",
      " 792 793 794 795 796 797 798 799 800 801 802 803 804 805 806 807 808 809\n",
      " 810 811 812 813 814 815 816 817 818 819 820 821 822 823 824 825 826 827\n",
      " 828 829 830 831 832 833 834 835 836 837 838 839 840 841 842 843 844 845\n",
      " 846 847 848 849 850 851 852 853 854 855 856 857 858 859 860 861 862 863\n",
      " 864 865 866 867 868 869 870 871 872 873 874 875 876 877 878 879 880 881\n",
      " 882 883 884 885 886 887 888 889 890 891 892 893 894 895 896 897 898 899\n",
      " 900 901 902 903 904 905 906 907 908 909 910 911 912 913 914 915 916 917\n",
      " 918 919 920 921 922 923 924 925 926 927 928 929 930 931 932 933 934 935\n",
      " 936 937 938 939 940 941 942]\n"
     ]
    }
   ],
   "source": [
    "# Display user IDs\n",
    "user_ids = train_df['user_id'].unique()\n",
    "print(\"User IDs:\", user_ids)\n"
   ]
  },
  {
   "cell_type": "code",
   "execution_count": 46,
   "metadata": {},
   "outputs": [
    {
     "name": "stdout",
     "output_type": "stream",
     "text": [
      "Top 10 recommended movies for User 0 : [('Close Shave, A (1995)', 4.8688483238220215), ('Wrong Trousers, The (1993)', 4.813930511474609), ('Usual Suspects, The (1995)', 4.800087928771973), ('Rear Window (1954)', 4.754708766937256), (\"Schindler's List (1993)\", 4.737940311431885), ('To Kill a Mockingbird (1962)', 4.726318836212158), ('Shawshank Redemption, The (1994)', 4.71925163269043), ('Casablanca (1942)', 4.718328475952148), (\"One Flew Over the Cuckoo's Nest (1975)\", 4.713250160217285), ('Boot, Das (1981)', 4.700684547424316)]\n"
     ]
    }
   ],
   "source": [
    "def recommend_movies(user_id, model, item_df, train_df, top_n=10):\n",
    "    # Create a list to store recommended movies\n",
    "    recommended_movies = []\n",
    "    \n",
    "    # Get the list of all movie IDs\n",
    "    all_movie_ids = torch.arange(len(item_df)).to(device)\n",
    "    \n",
    "    # Filter out movies that the user has already rated\n",
    "    user_rated_movies = train_df[train_df['user_id'] == user_id]['item_id'].values\n",
    "    all_movie_ids = [movie_id for movie_id in all_movie_ids if movie_id not in user_rated_movies]\n",
    "    \n",
    "    # Iterate over all remaining movies\n",
    "    for movie_id in all_movie_ids:\n",
    "        # Predict the rating for the user and the current movie\n",
    "        predicted_rating = model(torch.tensor([user_id]).to(device), torch.tensor([movie_id]).to(device)).item()\n",
    "        \n",
    "        # Append the movie ID and predicted rating to the list\n",
    "        recommended_movies.append((movie_id, predicted_rating))\n",
    "    \n",
    "    # Sort the recommended movies based on predicted rating in descending order\n",
    "    recommended_movies = sorted(recommended_movies, key=lambda x: x[1], reverse=True)\n",
    "    \n",
    "    # Get the top N recommended movies\n",
    "    top_n_movies = recommended_movies[:top_n]\n",
    "    \n",
    "    # Map movie IDs to movie titles\n",
    "    top_n_movie_titles = [(item_df.iloc[movie_id.item()]['title'], rating) for movie_id, rating in top_n_movies]\n",
    "    \n",
    "    return top_n_movie_titles\n",
    "\n",
    "# Example usage:\n",
    "user_id = 0  # Specify the user ID for whom you want to recommend movies\n",
    "recommended_movies = recommend_movies(user_id, model, item_df, train_df)\n",
    "print(\"Top 10 recommended movies for User\", user_id, \":\", recommended_movies)\n"
   ]
  },
  {
   "cell_type": "code",
   "execution_count": 37,
   "metadata": {},
   "outputs": [
    {
     "ename": "TypeError",
     "evalue": "Module.eval() missing 1 required positional argument: 'self'",
     "output_type": "error",
     "traceback": [
      "\u001b[0;31m---------------------------------------------------------------------------\u001b[0m",
      "\u001b[0;31mTypeError\u001b[0m                                 Traceback (most recent call last)",
      "\u001b[1;32m/Users/kishanterdal/Downloads/Youtube_project/Youtube_recommendation.ipynb Cell 59\u001b[0m line \u001b[0;36m2\n\u001b[1;32m     <a href='vscode-notebook-cell:/Users/kishanterdal/Downloads/Youtube_project/Youtube_recommendation.ipynb#Y114sZmlsZQ%3D%3D?line=25'>26</a>\u001b[0m     \u001b[39mreturn\u001b[39;00m precision, recall, f1_score\n\u001b[1;32m     <a href='vscode-notebook-cell:/Users/kishanterdal/Downloads/Youtube_project/Youtube_recommendation.ipynb#Y114sZmlsZQ%3D%3D?line=27'>28</a>\u001b[0m \u001b[39m# Usage example:\u001b[39;00m\n\u001b[0;32m---> <a href='vscode-notebook-cell:/Users/kishanterdal/Downloads/Youtube_project/Youtube_recommendation.ipynb#Y114sZmlsZQ%3D%3D?line=28'>29</a>\u001b[0m precision_collab, recall_collab, f1_score_collab \u001b[39m=\u001b[39m evaluate_collab_model(CollabNet, valid_dl)\n\u001b[1;32m     <a href='vscode-notebook-cell:/Users/kishanterdal/Downloads/Youtube_project/Youtube_recommendation.ipynb#Y114sZmlsZQ%3D%3D?line=29'>30</a>\u001b[0m \u001b[39mprint\u001b[39m(\u001b[39m\"\u001b[39m\u001b[39mCollaborative Filtering Model Evaluation:\u001b[39m\u001b[39m\"\u001b[39m)\n\u001b[1;32m     <a href='vscode-notebook-cell:/Users/kishanterdal/Downloads/Youtube_project/Youtube_recommendation.ipynb#Y114sZmlsZQ%3D%3D?line=30'>31</a>\u001b[0m \u001b[39mprint\u001b[39m(\u001b[39m\"\u001b[39m\u001b[39mPrecision:\u001b[39m\u001b[39m\"\u001b[39m, precision_collab)\n",
      "\u001b[1;32m/Users/kishanterdal/Downloads/Youtube_project/Youtube_recommendation.ipynb Cell 59\u001b[0m line \u001b[0;36m7\n\u001b[1;32m      <a href='vscode-notebook-cell:/Users/kishanterdal/Downloads/Youtube_project/Youtube_recommendation.ipynb#Y114sZmlsZQ%3D%3D?line=3'>4</a>\u001b[0m false_negatives \u001b[39m=\u001b[39m \u001b[39m0\u001b[39m\n\u001b[1;32m      <a href='vscode-notebook-cell:/Users/kishanterdal/Downloads/Youtube_project/Youtube_recommendation.ipynb#Y114sZmlsZQ%3D%3D?line=5'>6</a>\u001b[0m \u001b[39m# Set model to evaluation mode\u001b[39;00m\n\u001b[0;32m----> <a href='vscode-notebook-cell:/Users/kishanterdal/Downloads/Youtube_project/Youtube_recommendation.ipynb#Y114sZmlsZQ%3D%3D?line=6'>7</a>\u001b[0m model\u001b[39m.\u001b[39;49meval()\n\u001b[1;32m      <a href='vscode-notebook-cell:/Users/kishanterdal/Downloads/Youtube_project/Youtube_recommendation.ipynb#Y114sZmlsZQ%3D%3D?line=8'>9</a>\u001b[0m \u001b[39mfor\u001b[39;00m user_ids, item_ids, ratings \u001b[39min\u001b[39;00m valid_dl:\n\u001b[1;32m     <a href='vscode-notebook-cell:/Users/kishanterdal/Downloads/Youtube_project/Youtube_recommendation.ipynb#Y114sZmlsZQ%3D%3D?line=9'>10</a>\u001b[0m     \u001b[39mwith\u001b[39;00m torch\u001b[39m.\u001b[39mno_grad():\n",
      "\u001b[0;31mTypeError\u001b[0m: Module.eval() missing 1 required positional argument: 'self'"
     ]
    }
   ],
   "source": [
    "def evaluate_collab_model(model, valid_dl, threshold=3.5):\n",
    "    true_positives = 0\n",
    "    false_positives = 0\n",
    "    false_negatives = 0\n",
    "\n",
    "    # Set model to evaluation mode\n",
    "    model.eval()\n",
    "\n",
    "    for user_ids, item_ids, ratings in valid_dl:\n",
    "        with torch.no_grad():\n",
    "            predicted_ratings = model(user_ids, item_ids)\n",
    "\n",
    "        # Convert ratings to binary (1: positive, 0: negative)\n",
    "        predicted_ratings_binary = (predicted_ratings >= threshold).float()\n",
    "        true_ratings_binary = (ratings >= threshold).float()\n",
    "\n",
    "        true_positives += ((predicted_ratings_binary == 1) & (true_ratings_binary == 1)).sum().item()\n",
    "        false_positives += ((predicted_ratings_binary == 1) & (true_ratings_binary == 0)).sum().item()\n",
    "        false_negatives += ((predicted_ratings_binary == 0) & (true_ratings_binary == 1)).sum().item()\n",
    "\n",
    "    # Compute precision, recall, and F1 score\n",
    "    precision = true_positives / (true_positives + false_positives)\n",
    "    recall = true_positives / (true_positives + false_negatives)\n",
    "    f1_score = 2 * (precision * recall) / (precision + recall)\n",
    "\n",
    "    return precision, recall, f1_score\n",
    "\n",
    "# Usage example:\n",
    "precision_collab, recall_collab, f1_score_collab = evaluate_collab_model(CollabNet, valid_dl)\n",
    "print(\"Collaborative Filtering Model Evaluation:\")\n",
    "print(\"Precision:\", precision_collab)\n",
    "print(\"Recall:\", recall_collab)\n",
    "print(\"F1 Score:\", f1_score_collab)\n"
   ]
  },
  {
   "cell_type": "markdown",
   "metadata": {},
   "source": [
    "## Comparison with the previous model:\n",
    "\n",
    "When compared to the previous model, which achieved an RMSE of 0.986, the Deep Learning model demonstrates superior performance with a lower RMSE of 0.935. Unlike the previous model, which employed a simpler approach based on dot product and biases, the Deep Learning model utilizes a more complex architecture. It concatenates user and item embeddings and passes them through fully connected layers with ReLU activation, batch normalization, and dropout. This design allows the Deep Learning model to capture more intricate relationships between users and items, contributing to its improved prediction accuracy."
   ]
  },
  {
   "cell_type": "markdown",
   "metadata": {},
   "source": [
    "## Conclusion:\n",
    "\n",
    "The lower RMSE achieved by the Deep Learning model suggests its superiority over the previous model in terms of prediction accuracy. By incorporating deeper architectures and additional layers, the Deep Learning model effectively captures complex user-item interactions, resulting in more accurate predictions. This highlights the importance of leveraging sophisticated neural network architectures in collaborative filtering models for enhanced performance in recommendation systems."
   ]
  }
 ],
 "metadata": {
  "kernelspec": {
   "display_name": "Python 3",
   "language": "python",
   "name": "python3"
  },
  "language_info": {
   "codemirror_mode": {
    "name": "ipython",
    "version": 3
   },
   "file_extension": ".py",
   "mimetype": "text/x-python",
   "name": "python",
   "nbconvert_exporter": "python",
   "pygments_lexer": "ipython3",
   "version": "3.11.5"
  }
 },
 "nbformat": 4,
 "nbformat_minor": 2
}
